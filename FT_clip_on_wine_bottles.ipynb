{
  "cells": [
    {
      "cell_type": "markdown",
      "metadata": {
        "id": "view-in-github",
        "colab_type": "text"
      },
      "source": [
        "<a href=\"https://colab.research.google.com/github/user5254532/Whisper-1/blob/master/FT_clip_on_wine_bottles.ipynb\" target=\"_parent\"><img src=\"https://colab.research.google.com/assets/colab-badge.svg\" alt=\"Open In Colab\"/></a>"
      ]
    },
    {
      "cell_type": "code",
      "execution_count": 1,
      "metadata": {
        "colab": {
          "base_uri": "https://localhost:8080/"
        },
        "id": "ReuAQg9DsiKm",
        "outputId": "c6d8fd78-794d-4237-aa20-efb770649bae"
      },
      "outputs": [
        {
          "output_type": "stream",
          "name": "stdout",
          "text": [
            "Requirement already satisfied: openai-clip in /usr/local/lib/python3.10/dist-packages (1.0.1)\n",
            "Requirement already satisfied: ftfy in /usr/local/lib/python3.10/dist-packages (from openai-clip) (6.2.0)\n",
            "Requirement already satisfied: regex in /usr/local/lib/python3.10/dist-packages (from openai-clip) (2023.12.25)\n",
            "Requirement already satisfied: tqdm in /usr/local/lib/python3.10/dist-packages (from openai-clip) (4.66.2)\n",
            "Requirement already satisfied: wcwidth<0.3.0,>=0.2.12 in /usr/local/lib/python3.10/dist-packages (from ftfy->openai-clip) (0.2.13)\n"
          ]
        }
      ],
      "source": [
        "!pip install openai-clip"
      ]
    },
    {
      "cell_type": "code",
      "execution_count": 2,
      "metadata": {
        "id": "gGJuMKcndJwx"
      },
      "outputs": [],
      "source": [
        "#For Parsing json data\n",
        "import json\n",
        "\n",
        "#For Loading Images\n",
        "from PIL import Image\n",
        "\n",
        "#For displaying loadbar\n",
        "from tqdm import tqdm\n",
        "\n",
        "#Importing pytorch to finetune our clip\n",
        "import torch\n",
        "import torch.nn as nn\n",
        "from torch.utils.data import DataLoader\n",
        "\n",
        "#Here, we import clip model developed by meta\n",
        "import clip\n",
        "\n",
        "#Constructs a CLIP processor which wraps a CLIP image processor and a CLIP tokenizer into a single processor.\n",
        "from transformers import CLIPProcessor, CLIPModel"
      ]
    },
    {
      "cell_type": "markdown",
      "metadata": {
        "id": "JhqsHIe2gFD9"
      },
      "source": [
        "#1. Load dataset"
      ]
    },
    {
      "cell_type": "code",
      "source": [
        "# mount google drive\n",
        "from google.colab import drive\n",
        "drive.mount('/content/drive')"
      ],
      "metadata": {
        "colab": {
          "base_uri": "https://localhost:8080/"
        },
        "id": "OUDhxVtbeBVl",
        "outputId": "6dab8338-218a-424b-db5b-53d5c866f3cf"
      },
      "execution_count": 3,
      "outputs": [
        {
          "output_type": "stream",
          "name": "stdout",
          "text": [
            "Drive already mounted at /content/drive; to attempt to forcibly remount, call drive.mount(\"/content/drive\", force_remount=True).\n"
          ]
        }
      ]
    },
    {
      "cell_type": "code",
      "execution_count": 4,
      "metadata": {
        "id": "Soolc-SRdV_d"
      },
      "outputs": [],
      "source": [
        "# image Paths\n",
        "image_path = '/content/drive/MyDrive/Dr Aha_Data_Shared/data/img/'\n",
        "# text csv\n",
        "text_path='/content/drive/MyDrive/Dr Aha_Data_Shared/data/defect_df.csv'\n"
      ]
    },
    {
      "cell_type": "code",
      "source": [
        "# read the csv as data frame\n",
        "import pandas as pd\n",
        "df0=pd.read_csv(text_path)"
      ],
      "metadata": {
        "id": "ena-D46K0WZu"
      },
      "execution_count": 5,
      "outputs": []
    },
    {
      "cell_type": "code",
      "source": [
        "df0.head(3)"
      ],
      "metadata": {
        "colab": {
          "base_uri": "https://localhost:8080/",
          "height": 248
        },
        "id": "9YHgNUh80lBl",
        "outputId": "bc4ce84e-4161-4e6d-8b6b-216f78ca6045"
      },
      "execution_count": 6,
      "outputs": [
        {
          "output_type": "execute_result",
          "data": {
            "text/plain": [
              "   Unnamed: 0      defect_name  defect_id  \\\n",
              "0           0  Deformed Finish        NaN   \n",
              "1           1    Broken Finish        NaN   \n",
              "2           2       Stuck Plug        NaN   \n",
              "\n",
              "                                         defect_tags defect_position  \\\n",
              "0                          \\n\\n\\n/\\n \\n\\n - \\n\\n\\n\\n          Finish   \n",
              "1  \\n\\n\\n/\\n \\n\\n - \\n\\n\\n\\t\\t\\t\\t\\t#Snipped Fini...          Finish   \n",
              "2  \\n\\n\\n/\\n \\n\\n - \\n\\n\\n\\t\\t\\t\\t\\t#Hot Plug, #P...          Finish   \n",
              "\n",
              "                                  defect_description  \\\n",
              "0  \\n\\nA finish, which has a deformed appearance....   \n",
              "1  \\n\\nA small section of glass has broken away f...   \n",
              "2  \\n\\nA piece of glass, which looks like a small...   \n",
              "\n",
              "                                 defect_image_url_ls  \\\n",
              "0  ['https://glassopenbook.com/uploads/defect_ima...   \n",
              "1  ['https://glassopenbook.com/uploads/defect_ima...   \n",
              "2  ['https://glassopenbook.com/uploads/defect_ima...   \n",
              "\n",
              "                                        high_res_url  \n",
              "0  ['https://glassopenbook.com/uploads/defect_ima...  \n",
              "1  ['https://glassopenbook.com/uploads/defect_ima...  \n",
              "2  ['https://glassopenbook.com/uploads/defect_ima...  "
            ],
            "text/html": [
              "\n",
              "  <div id=\"df-7d410b38-a4a7-4b0e-87ee-d9835a8030b5\" class=\"colab-df-container\">\n",
              "    <div>\n",
              "<style scoped>\n",
              "    .dataframe tbody tr th:only-of-type {\n",
              "        vertical-align: middle;\n",
              "    }\n",
              "\n",
              "    .dataframe tbody tr th {\n",
              "        vertical-align: top;\n",
              "    }\n",
              "\n",
              "    .dataframe thead th {\n",
              "        text-align: right;\n",
              "    }\n",
              "</style>\n",
              "<table border=\"1\" class=\"dataframe\">\n",
              "  <thead>\n",
              "    <tr style=\"text-align: right;\">\n",
              "      <th></th>\n",
              "      <th>Unnamed: 0</th>\n",
              "      <th>defect_name</th>\n",
              "      <th>defect_id</th>\n",
              "      <th>defect_tags</th>\n",
              "      <th>defect_position</th>\n",
              "      <th>defect_description</th>\n",
              "      <th>defect_image_url_ls</th>\n",
              "      <th>high_res_url</th>\n",
              "    </tr>\n",
              "  </thead>\n",
              "  <tbody>\n",
              "    <tr>\n",
              "      <th>0</th>\n",
              "      <td>0</td>\n",
              "      <td>Deformed Finish</td>\n",
              "      <td>NaN</td>\n",
              "      <td>\\n\\n\\n/\\n \\n\\n - \\n\\n\\n\\n</td>\n",
              "      <td>Finish</td>\n",
              "      <td>\\n\\nA finish, which has a deformed appearance....</td>\n",
              "      <td>['https://glassopenbook.com/uploads/defect_ima...</td>\n",
              "      <td>['https://glassopenbook.com/uploads/defect_ima...</td>\n",
              "    </tr>\n",
              "    <tr>\n",
              "      <th>1</th>\n",
              "      <td>1</td>\n",
              "      <td>Broken Finish</td>\n",
              "      <td>NaN</td>\n",
              "      <td>\\n\\n\\n/\\n \\n\\n - \\n\\n\\n\\t\\t\\t\\t\\t#Snipped Fini...</td>\n",
              "      <td>Finish</td>\n",
              "      <td>\\n\\nA small section of glass has broken away f...</td>\n",
              "      <td>['https://glassopenbook.com/uploads/defect_ima...</td>\n",
              "      <td>['https://glassopenbook.com/uploads/defect_ima...</td>\n",
              "    </tr>\n",
              "    <tr>\n",
              "      <th>2</th>\n",
              "      <td>2</td>\n",
              "      <td>Stuck Plug</td>\n",
              "      <td>NaN</td>\n",
              "      <td>\\n\\n\\n/\\n \\n\\n - \\n\\n\\n\\t\\t\\t\\t\\t#Hot Plug, #P...</td>\n",
              "      <td>Finish</td>\n",
              "      <td>\\n\\nA piece of glass, which looks like a small...</td>\n",
              "      <td>['https://glassopenbook.com/uploads/defect_ima...</td>\n",
              "      <td>['https://glassopenbook.com/uploads/defect_ima...</td>\n",
              "    </tr>\n",
              "  </tbody>\n",
              "</table>\n",
              "</div>\n",
              "    <div class=\"colab-df-buttons\">\n",
              "\n",
              "  <div class=\"colab-df-container\">\n",
              "    <button class=\"colab-df-convert\" onclick=\"convertToInteractive('df-7d410b38-a4a7-4b0e-87ee-d9835a8030b5')\"\n",
              "            title=\"Convert this dataframe to an interactive table.\"\n",
              "            style=\"display:none;\">\n",
              "\n",
              "  <svg xmlns=\"http://www.w3.org/2000/svg\" height=\"24px\" viewBox=\"0 -960 960 960\">\n",
              "    <path d=\"M120-120v-720h720v720H120Zm60-500h600v-160H180v160Zm220 220h160v-160H400v160Zm0 220h160v-160H400v160ZM180-400h160v-160H180v160Zm440 0h160v-160H620v160ZM180-180h160v-160H180v160Zm440 0h160v-160H620v160Z\"/>\n",
              "  </svg>\n",
              "    </button>\n",
              "\n",
              "  <style>\n",
              "    .colab-df-container {\n",
              "      display:flex;\n",
              "      gap: 12px;\n",
              "    }\n",
              "\n",
              "    .colab-df-convert {\n",
              "      background-color: #E8F0FE;\n",
              "      border: none;\n",
              "      border-radius: 50%;\n",
              "      cursor: pointer;\n",
              "      display: none;\n",
              "      fill: #1967D2;\n",
              "      height: 32px;\n",
              "      padding: 0 0 0 0;\n",
              "      width: 32px;\n",
              "    }\n",
              "\n",
              "    .colab-df-convert:hover {\n",
              "      background-color: #E2EBFA;\n",
              "      box-shadow: 0px 1px 2px rgba(60, 64, 67, 0.3), 0px 1px 3px 1px rgba(60, 64, 67, 0.15);\n",
              "      fill: #174EA6;\n",
              "    }\n",
              "\n",
              "    .colab-df-buttons div {\n",
              "      margin-bottom: 4px;\n",
              "    }\n",
              "\n",
              "    [theme=dark] .colab-df-convert {\n",
              "      background-color: #3B4455;\n",
              "      fill: #D2E3FC;\n",
              "    }\n",
              "\n",
              "    [theme=dark] .colab-df-convert:hover {\n",
              "      background-color: #434B5C;\n",
              "      box-shadow: 0px 1px 3px 1px rgba(0, 0, 0, 0.15);\n",
              "      filter: drop-shadow(0px 1px 2px rgba(0, 0, 0, 0.3));\n",
              "      fill: #FFFFFF;\n",
              "    }\n",
              "  </style>\n",
              "\n",
              "    <script>\n",
              "      const buttonEl =\n",
              "        document.querySelector('#df-7d410b38-a4a7-4b0e-87ee-d9835a8030b5 button.colab-df-convert');\n",
              "      buttonEl.style.display =\n",
              "        google.colab.kernel.accessAllowed ? 'block' : 'none';\n",
              "\n",
              "      async function convertToInteractive(key) {\n",
              "        const element = document.querySelector('#df-7d410b38-a4a7-4b0e-87ee-d9835a8030b5');\n",
              "        const dataTable =\n",
              "          await google.colab.kernel.invokeFunction('convertToInteractive',\n",
              "                                                    [key], {});\n",
              "        if (!dataTable) return;\n",
              "\n",
              "        const docLinkHtml = 'Like what you see? Visit the ' +\n",
              "          '<a target=\"_blank\" href=https://colab.research.google.com/notebooks/data_table.ipynb>data table notebook</a>'\n",
              "          + ' to learn more about interactive tables.';\n",
              "        element.innerHTML = '';\n",
              "        dataTable['output_type'] = 'display_data';\n",
              "        await google.colab.output.renderOutput(dataTable, element);\n",
              "        const docLink = document.createElement('div');\n",
              "        docLink.innerHTML = docLinkHtml;\n",
              "        element.appendChild(docLink);\n",
              "      }\n",
              "    </script>\n",
              "  </div>\n",
              "\n",
              "\n",
              "<div id=\"df-2b80393f-b8d2-4571-a369-aab554855bbc\">\n",
              "  <button class=\"colab-df-quickchart\" onclick=\"quickchart('df-2b80393f-b8d2-4571-a369-aab554855bbc')\"\n",
              "            title=\"Suggest charts\"\n",
              "            style=\"display:none;\">\n",
              "\n",
              "<svg xmlns=\"http://www.w3.org/2000/svg\" height=\"24px\"viewBox=\"0 0 24 24\"\n",
              "     width=\"24px\">\n",
              "    <g>\n",
              "        <path d=\"M19 3H5c-1.1 0-2 .9-2 2v14c0 1.1.9 2 2 2h14c1.1 0 2-.9 2-2V5c0-1.1-.9-2-2-2zM9 17H7v-7h2v7zm4 0h-2V7h2v10zm4 0h-2v-4h2v4z\"/>\n",
              "    </g>\n",
              "</svg>\n",
              "  </button>\n",
              "\n",
              "<style>\n",
              "  .colab-df-quickchart {\n",
              "      --bg-color: #E8F0FE;\n",
              "      --fill-color: #1967D2;\n",
              "      --hover-bg-color: #E2EBFA;\n",
              "      --hover-fill-color: #174EA6;\n",
              "      --disabled-fill-color: #AAA;\n",
              "      --disabled-bg-color: #DDD;\n",
              "  }\n",
              "\n",
              "  [theme=dark] .colab-df-quickchart {\n",
              "      --bg-color: #3B4455;\n",
              "      --fill-color: #D2E3FC;\n",
              "      --hover-bg-color: #434B5C;\n",
              "      --hover-fill-color: #FFFFFF;\n",
              "      --disabled-bg-color: #3B4455;\n",
              "      --disabled-fill-color: #666;\n",
              "  }\n",
              "\n",
              "  .colab-df-quickchart {\n",
              "    background-color: var(--bg-color);\n",
              "    border: none;\n",
              "    border-radius: 50%;\n",
              "    cursor: pointer;\n",
              "    display: none;\n",
              "    fill: var(--fill-color);\n",
              "    height: 32px;\n",
              "    padding: 0;\n",
              "    width: 32px;\n",
              "  }\n",
              "\n",
              "  .colab-df-quickchart:hover {\n",
              "    background-color: var(--hover-bg-color);\n",
              "    box-shadow: 0 1px 2px rgba(60, 64, 67, 0.3), 0 1px 3px 1px rgba(60, 64, 67, 0.15);\n",
              "    fill: var(--button-hover-fill-color);\n",
              "  }\n",
              "\n",
              "  .colab-df-quickchart-complete:disabled,\n",
              "  .colab-df-quickchart-complete:disabled:hover {\n",
              "    background-color: var(--disabled-bg-color);\n",
              "    fill: var(--disabled-fill-color);\n",
              "    box-shadow: none;\n",
              "  }\n",
              "\n",
              "  .colab-df-spinner {\n",
              "    border: 2px solid var(--fill-color);\n",
              "    border-color: transparent;\n",
              "    border-bottom-color: var(--fill-color);\n",
              "    animation:\n",
              "      spin 1s steps(1) infinite;\n",
              "  }\n",
              "\n",
              "  @keyframes spin {\n",
              "    0% {\n",
              "      border-color: transparent;\n",
              "      border-bottom-color: var(--fill-color);\n",
              "      border-left-color: var(--fill-color);\n",
              "    }\n",
              "    20% {\n",
              "      border-color: transparent;\n",
              "      border-left-color: var(--fill-color);\n",
              "      border-top-color: var(--fill-color);\n",
              "    }\n",
              "    30% {\n",
              "      border-color: transparent;\n",
              "      border-left-color: var(--fill-color);\n",
              "      border-top-color: var(--fill-color);\n",
              "      border-right-color: var(--fill-color);\n",
              "    }\n",
              "    40% {\n",
              "      border-color: transparent;\n",
              "      border-right-color: var(--fill-color);\n",
              "      border-top-color: var(--fill-color);\n",
              "    }\n",
              "    60% {\n",
              "      border-color: transparent;\n",
              "      border-right-color: var(--fill-color);\n",
              "    }\n",
              "    80% {\n",
              "      border-color: transparent;\n",
              "      border-right-color: var(--fill-color);\n",
              "      border-bottom-color: var(--fill-color);\n",
              "    }\n",
              "    90% {\n",
              "      border-color: transparent;\n",
              "      border-bottom-color: var(--fill-color);\n",
              "    }\n",
              "  }\n",
              "</style>\n",
              "\n",
              "  <script>\n",
              "    async function quickchart(key) {\n",
              "      const quickchartButtonEl =\n",
              "        document.querySelector('#' + key + ' button');\n",
              "      quickchartButtonEl.disabled = true;  // To prevent multiple clicks.\n",
              "      quickchartButtonEl.classList.add('colab-df-spinner');\n",
              "      try {\n",
              "        const charts = await google.colab.kernel.invokeFunction(\n",
              "            'suggestCharts', [key], {});\n",
              "      } catch (error) {\n",
              "        console.error('Error during call to suggestCharts:', error);\n",
              "      }\n",
              "      quickchartButtonEl.classList.remove('colab-df-spinner');\n",
              "      quickchartButtonEl.classList.add('colab-df-quickchart-complete');\n",
              "    }\n",
              "    (() => {\n",
              "      let quickchartButtonEl =\n",
              "        document.querySelector('#df-2b80393f-b8d2-4571-a369-aab554855bbc button');\n",
              "      quickchartButtonEl.style.display =\n",
              "        google.colab.kernel.accessAllowed ? 'block' : 'none';\n",
              "    })();\n",
              "  </script>\n",
              "</div>\n",
              "\n",
              "    </div>\n",
              "  </div>\n"
            ],
            "application/vnd.google.colaboratory.intrinsic+json": {
              "type": "dataframe",
              "variable_name": "df0",
              "summary": "{\n  \"name\": \"df0\",\n  \"rows\": 103,\n  \"fields\": [\n    {\n      \"column\": \"Unnamed: 0\",\n      \"properties\": {\n        \"dtype\": \"number\",\n        \"std\": 29,\n        \"min\": 0,\n        \"max\": 102,\n        \"num_unique_values\": 103,\n        \"samples\": [\n          30,\n          67,\n          62\n        ],\n        \"semantic_type\": \"\",\n        \"description\": \"\"\n      }\n    },\n    {\n      \"column\": \"defect_name\",\n      \"properties\": {\n        \"dtype\": \"string\",\n        \"num_unique_values\": 103,\n        \"samples\": [\n          \"Dropped Bottom\",\n          \"Black Spots\",\n          \"Check in Body\"\n        ],\n        \"semantic_type\": \"\",\n        \"description\": \"\"\n      }\n    },\n    {\n      \"column\": \"defect_id\",\n      \"properties\": {\n        \"dtype\": \"number\",\n        \"std\": null,\n        \"min\": null,\n        \"max\": null,\n        \"num_unique_values\": 0,\n        \"samples\": [],\n        \"semantic_type\": \"\",\n        \"description\": \"\"\n      }\n    },\n    {\n      \"column\": \"defect_tags\",\n      \"properties\": {\n        \"dtype\": \"string\",\n        \"num_unique_values\": 92,\n        \"samples\": [],\n        \"semantic_type\": \"\",\n        \"description\": \"\"\n      }\n    },\n    {\n      \"column\": \"defect_position\",\n      \"properties\": {\n        \"dtype\": \"category\",\n        \"num_unique_values\": 21,\n        \"samples\": [],\n        \"semantic_type\": \"\",\n        \"description\": \"\"\n      }\n    },\n    {\n      \"column\": \"defect_description\",\n      \"properties\": {\n        \"dtype\": \"string\",\n        \"num_unique_values\": 103,\n        \"samples\": [],\n        \"semantic_type\": \"\",\n        \"description\": \"\"\n      }\n    },\n    {\n      \"column\": \"defect_image_url_ls\",\n      \"properties\": {\n        \"dtype\": \"string\",\n        \"num_unique_values\": 103,\n        \"samples\": [],\n        \"semantic_type\": \"\",\n        \"description\": \"\"\n      }\n    },\n    {\n      \"column\": \"high_res_url\",\n      \"properties\": {\n        \"dtype\": \"string\",\n        \"num_unique_values\": 103,\n        \"samples\": [],\n        \"semantic_type\": \"\",\n        \"description\": \"\"\n      }\n    }\n  ]\n}"
            }
          },
          "metadata": {},
          "execution_count": 6
        }
      ]
    },
    {
      "cell_type": "code",
      "source": [
        "df=df0[['defect_name', 'defect_position','high_res_url']]"
      ],
      "metadata": {
        "id": "RmSHLvZG1rkv"
      },
      "execution_count": 7,
      "outputs": []
    },
    {
      "cell_type": "code",
      "source": [
        "df.head(3)"
      ],
      "metadata": {
        "colab": {
          "base_uri": "https://localhost:8080/",
          "height": 143
        },
        "id": "WFBWu2N_1-3G",
        "outputId": "d99130e4-c424-467a-c323-0da9bd6e510e"
      },
      "execution_count": 8,
      "outputs": [
        {
          "output_type": "execute_result",
          "data": {
            "text/plain": [
              "       defect_name defect_position  \\\n",
              "0  Deformed Finish          Finish   \n",
              "1    Broken Finish          Finish   \n",
              "2       Stuck Plug          Finish   \n",
              "\n",
              "                                        high_res_url  \n",
              "0  ['https://glassopenbook.com/uploads/defect_ima...  \n",
              "1  ['https://glassopenbook.com/uploads/defect_ima...  \n",
              "2  ['https://glassopenbook.com/uploads/defect_ima...  "
            ],
            "text/html": [
              "\n",
              "  <div id=\"df-4674dc67-5759-4085-b4b6-ef9ec806acef\" class=\"colab-df-container\">\n",
              "    <div>\n",
              "<style scoped>\n",
              "    .dataframe tbody tr th:only-of-type {\n",
              "        vertical-align: middle;\n",
              "    }\n",
              "\n",
              "    .dataframe tbody tr th {\n",
              "        vertical-align: top;\n",
              "    }\n",
              "\n",
              "    .dataframe thead th {\n",
              "        text-align: right;\n",
              "    }\n",
              "</style>\n",
              "<table border=\"1\" class=\"dataframe\">\n",
              "  <thead>\n",
              "    <tr style=\"text-align: right;\">\n",
              "      <th></th>\n",
              "      <th>defect_name</th>\n",
              "      <th>defect_position</th>\n",
              "      <th>high_res_url</th>\n",
              "    </tr>\n",
              "  </thead>\n",
              "  <tbody>\n",
              "    <tr>\n",
              "      <th>0</th>\n",
              "      <td>Deformed Finish</td>\n",
              "      <td>Finish</td>\n",
              "      <td>['https://glassopenbook.com/uploads/defect_ima...</td>\n",
              "    </tr>\n",
              "    <tr>\n",
              "      <th>1</th>\n",
              "      <td>Broken Finish</td>\n",
              "      <td>Finish</td>\n",
              "      <td>['https://glassopenbook.com/uploads/defect_ima...</td>\n",
              "    </tr>\n",
              "    <tr>\n",
              "      <th>2</th>\n",
              "      <td>Stuck Plug</td>\n",
              "      <td>Finish</td>\n",
              "      <td>['https://glassopenbook.com/uploads/defect_ima...</td>\n",
              "    </tr>\n",
              "  </tbody>\n",
              "</table>\n",
              "</div>\n",
              "    <div class=\"colab-df-buttons\">\n",
              "\n",
              "  <div class=\"colab-df-container\">\n",
              "    <button class=\"colab-df-convert\" onclick=\"convertToInteractive('df-4674dc67-5759-4085-b4b6-ef9ec806acef')\"\n",
              "            title=\"Convert this dataframe to an interactive table.\"\n",
              "            style=\"display:none;\">\n",
              "\n",
              "  <svg xmlns=\"http://www.w3.org/2000/svg\" height=\"24px\" viewBox=\"0 -960 960 960\">\n",
              "    <path d=\"M120-120v-720h720v720H120Zm60-500h600v-160H180v160Zm220 220h160v-160H400v160Zm0 220h160v-160H400v160ZM180-400h160v-160H180v160Zm440 0h160v-160H620v160ZM180-180h160v-160H180v160Zm440 0h160v-160H620v160Z\"/>\n",
              "  </svg>\n",
              "    </button>\n",
              "\n",
              "  <style>\n",
              "    .colab-df-container {\n",
              "      display:flex;\n",
              "      gap: 12px;\n",
              "    }\n",
              "\n",
              "    .colab-df-convert {\n",
              "      background-color: #E8F0FE;\n",
              "      border: none;\n",
              "      border-radius: 50%;\n",
              "      cursor: pointer;\n",
              "      display: none;\n",
              "      fill: #1967D2;\n",
              "      height: 32px;\n",
              "      padding: 0 0 0 0;\n",
              "      width: 32px;\n",
              "    }\n",
              "\n",
              "    .colab-df-convert:hover {\n",
              "      background-color: #E2EBFA;\n",
              "      box-shadow: 0px 1px 2px rgba(60, 64, 67, 0.3), 0px 1px 3px 1px rgba(60, 64, 67, 0.15);\n",
              "      fill: #174EA6;\n",
              "    }\n",
              "\n",
              "    .colab-df-buttons div {\n",
              "      margin-bottom: 4px;\n",
              "    }\n",
              "\n",
              "    [theme=dark] .colab-df-convert {\n",
              "      background-color: #3B4455;\n",
              "      fill: #D2E3FC;\n",
              "    }\n",
              "\n",
              "    [theme=dark] .colab-df-convert:hover {\n",
              "      background-color: #434B5C;\n",
              "      box-shadow: 0px 1px 3px 1px rgba(0, 0, 0, 0.15);\n",
              "      filter: drop-shadow(0px 1px 2px rgba(0, 0, 0, 0.3));\n",
              "      fill: #FFFFFF;\n",
              "    }\n",
              "  </style>\n",
              "\n",
              "    <script>\n",
              "      const buttonEl =\n",
              "        document.querySelector('#df-4674dc67-5759-4085-b4b6-ef9ec806acef button.colab-df-convert');\n",
              "      buttonEl.style.display =\n",
              "        google.colab.kernel.accessAllowed ? 'block' : 'none';\n",
              "\n",
              "      async function convertToInteractive(key) {\n",
              "        const element = document.querySelector('#df-4674dc67-5759-4085-b4b6-ef9ec806acef');\n",
              "        const dataTable =\n",
              "          await google.colab.kernel.invokeFunction('convertToInteractive',\n",
              "                                                    [key], {});\n",
              "        if (!dataTable) return;\n",
              "\n",
              "        const docLinkHtml = 'Like what you see? Visit the ' +\n",
              "          '<a target=\"_blank\" href=https://colab.research.google.com/notebooks/data_table.ipynb>data table notebook</a>'\n",
              "          + ' to learn more about interactive tables.';\n",
              "        element.innerHTML = '';\n",
              "        dataTable['output_type'] = 'display_data';\n",
              "        await google.colab.output.renderOutput(dataTable, element);\n",
              "        const docLink = document.createElement('div');\n",
              "        docLink.innerHTML = docLinkHtml;\n",
              "        element.appendChild(docLink);\n",
              "      }\n",
              "    </script>\n",
              "  </div>\n",
              "\n",
              "\n",
              "<div id=\"df-9a24c48a-950a-43b3-a685-ec9b23f97a09\">\n",
              "  <button class=\"colab-df-quickchart\" onclick=\"quickchart('df-9a24c48a-950a-43b3-a685-ec9b23f97a09')\"\n",
              "            title=\"Suggest charts\"\n",
              "            style=\"display:none;\">\n",
              "\n",
              "<svg xmlns=\"http://www.w3.org/2000/svg\" height=\"24px\"viewBox=\"0 0 24 24\"\n",
              "     width=\"24px\">\n",
              "    <g>\n",
              "        <path d=\"M19 3H5c-1.1 0-2 .9-2 2v14c0 1.1.9 2 2 2h14c1.1 0 2-.9 2-2V5c0-1.1-.9-2-2-2zM9 17H7v-7h2v7zm4 0h-2V7h2v10zm4 0h-2v-4h2v4z\"/>\n",
              "    </g>\n",
              "</svg>\n",
              "  </button>\n",
              "\n",
              "<style>\n",
              "  .colab-df-quickchart {\n",
              "      --bg-color: #E8F0FE;\n",
              "      --fill-color: #1967D2;\n",
              "      --hover-bg-color: #E2EBFA;\n",
              "      --hover-fill-color: #174EA6;\n",
              "      --disabled-fill-color: #AAA;\n",
              "      --disabled-bg-color: #DDD;\n",
              "  }\n",
              "\n",
              "  [theme=dark] .colab-df-quickchart {\n",
              "      --bg-color: #3B4455;\n",
              "      --fill-color: #D2E3FC;\n",
              "      --hover-bg-color: #434B5C;\n",
              "      --hover-fill-color: #FFFFFF;\n",
              "      --disabled-bg-color: #3B4455;\n",
              "      --disabled-fill-color: #666;\n",
              "  }\n",
              "\n",
              "  .colab-df-quickchart {\n",
              "    background-color: var(--bg-color);\n",
              "    border: none;\n",
              "    border-radius: 50%;\n",
              "    cursor: pointer;\n",
              "    display: none;\n",
              "    fill: var(--fill-color);\n",
              "    height: 32px;\n",
              "    padding: 0;\n",
              "    width: 32px;\n",
              "  }\n",
              "\n",
              "  .colab-df-quickchart:hover {\n",
              "    background-color: var(--hover-bg-color);\n",
              "    box-shadow: 0 1px 2px rgba(60, 64, 67, 0.3), 0 1px 3px 1px rgba(60, 64, 67, 0.15);\n",
              "    fill: var(--button-hover-fill-color);\n",
              "  }\n",
              "\n",
              "  .colab-df-quickchart-complete:disabled,\n",
              "  .colab-df-quickchart-complete:disabled:hover {\n",
              "    background-color: var(--disabled-bg-color);\n",
              "    fill: var(--disabled-fill-color);\n",
              "    box-shadow: none;\n",
              "  }\n",
              "\n",
              "  .colab-df-spinner {\n",
              "    border: 2px solid var(--fill-color);\n",
              "    border-color: transparent;\n",
              "    border-bottom-color: var(--fill-color);\n",
              "    animation:\n",
              "      spin 1s steps(1) infinite;\n",
              "  }\n",
              "\n",
              "  @keyframes spin {\n",
              "    0% {\n",
              "      border-color: transparent;\n",
              "      border-bottom-color: var(--fill-color);\n",
              "      border-left-color: var(--fill-color);\n",
              "    }\n",
              "    20% {\n",
              "      border-color: transparent;\n",
              "      border-left-color: var(--fill-color);\n",
              "      border-top-color: var(--fill-color);\n",
              "    }\n",
              "    30% {\n",
              "      border-color: transparent;\n",
              "      border-left-color: var(--fill-color);\n",
              "      border-top-color: var(--fill-color);\n",
              "      border-right-color: var(--fill-color);\n",
              "    }\n",
              "    40% {\n",
              "      border-color: transparent;\n",
              "      border-right-color: var(--fill-color);\n",
              "      border-top-color: var(--fill-color);\n",
              "    }\n",
              "    60% {\n",
              "      border-color: transparent;\n",
              "      border-right-color: var(--fill-color);\n",
              "    }\n",
              "    80% {\n",
              "      border-color: transparent;\n",
              "      border-right-color: var(--fill-color);\n",
              "      border-bottom-color: var(--fill-color);\n",
              "    }\n",
              "    90% {\n",
              "      border-color: transparent;\n",
              "      border-bottom-color: var(--fill-color);\n",
              "    }\n",
              "  }\n",
              "</style>\n",
              "\n",
              "  <script>\n",
              "    async function quickchart(key) {\n",
              "      const quickchartButtonEl =\n",
              "        document.querySelector('#' + key + ' button');\n",
              "      quickchartButtonEl.disabled = true;  // To prevent multiple clicks.\n",
              "      quickchartButtonEl.classList.add('colab-df-spinner');\n",
              "      try {\n",
              "        const charts = await google.colab.kernel.invokeFunction(\n",
              "            'suggestCharts', [key], {});\n",
              "      } catch (error) {\n",
              "        console.error('Error during call to suggestCharts:', error);\n",
              "      }\n",
              "      quickchartButtonEl.classList.remove('colab-df-spinner');\n",
              "      quickchartButtonEl.classList.add('colab-df-quickchart-complete');\n",
              "    }\n",
              "    (() => {\n",
              "      let quickchartButtonEl =\n",
              "        document.querySelector('#df-9a24c48a-950a-43b3-a685-ec9b23f97a09 button');\n",
              "      quickchartButtonEl.style.display =\n",
              "        google.colab.kernel.accessAllowed ? 'block' : 'none';\n",
              "    })();\n",
              "  </script>\n",
              "</div>\n",
              "\n",
              "    </div>\n",
              "  </div>\n"
            ],
            "application/vnd.google.colaboratory.intrinsic+json": {
              "type": "dataframe",
              "variable_name": "df",
              "summary": "{\n  \"name\": \"df\",\n  \"rows\": 103,\n  \"fields\": [\n    {\n      \"column\": \"defect_name\",\n      \"properties\": {\n        \"dtype\": \"string\",\n        \"num_unique_values\": 103,\n        \"samples\": [\n          \"Dropped Bottom\",\n          \"Black Spots\",\n          \"Check in Body\"\n        ],\n        \"semantic_type\": \"\",\n        \"description\": \"\"\n      }\n    },\n    {\n      \"column\": \"defect_position\",\n      \"properties\": {\n        \"dtype\": \"category\",\n        \"num_unique_values\": 21,\n        \"samples\": [\n          \"Finish\",\n          \"Neck, Body, Heel, Base\",\n          \"Finish, Neck, Body\"\n        ],\n        \"semantic_type\": \"\",\n        \"description\": \"\"\n      }\n    },\n    {\n      \"column\": \"high_res_url\",\n      \"properties\": {\n        \"dtype\": \"string\",\n        \"num_unique_values\": 103,\n        \"samples\": [\n          \"['https://glassopenbook.com/uploads/defect_images/apegg_bb_185_582b4fba398b1.png', 'https://glassopenbook.com/uploads/defect_images/apegg_bb_185_595cd7197f3c3.png', 'https://glassopenbook.com/uploads/defect_images/apegg_bb_185_595cd71eaeacf.png', 'https://glassopenbook.com/uploads/defect_images/apegg_pb_185_58189995a29de.png', 'https://glassopenbook.com/uploads/defect_images/apegg_pb_185_581899969f95a.png', 'https://glassopenbook.com/uploads/defect_images/apegg_pb_185_58189997771b8.png', 'https://glassopenbook.com/uploads/defect_images/apegg_nnpb_185_5810e6b737b2f.png', 'https://glassopenbook.com/uploads/defect_images/apegg_nnpb_185_5810e6b802da5.png', 'https://glassopenbook.com/uploads/defect_images/apegg_nnpb_185_5810e6b8a800b.png']\",\n          \"['https://glassopenbook.com/uploads/defect_images/apegg_pb_250_5818bace11a1f.png', 'https://glassopenbook.com/uploads/defect_images/apegg_pb_250_5818bacedba20.png', 'https://glassopenbook.com/uploads/defect_images/apegg_pb_250_5818bad0122bb.png', 'https://glassopenbook.com/uploads/defect_images/apegg_pb_250_5964ebc442a78.png', 'https://glassopenbook.com/uploads/defect_images/apegg_pb_250_5964ebcbd8f09.png', 'https://glassopenbook.com/uploads/defect_images/apegg_pb_250_5964ebd5c0d89.png', 'https://glassopenbook.com/uploads/defect_images/apegg_pb_250_5964ebe996948.png', 'https://glassopenbook.com/uploads/defect_images/apegg_pb_250_5964ebef57e87.png', 'https://glassopenbook.com/uploads/defect_images/apegg_pb_250_5964ebf7626c5.png', 'https://glassopenbook.com/uploads/defect_images/apegg_nnpb_250_577e9ccd0ee30.png', 'https://glassopenbook.com/uploads/defect_images/apegg_nnpb_250_577e9ccde90ac.png', 'https://glassopenbook.com/uploads/defect_images/apegg_nnpb_250_577e9cceb1e3b.png', 'https://glassopenbook.com/uploads/defect_images/apegg_nnpb_250_5922f64bc7c46.png', 'https://glassopenbook.com/uploads/defect_images/apegg_nnpb_250_5922f6513099e.png', 'https://glassopenbook.com/uploads/defect_images/apegg_nnpb_250_5922f65617d1a.png', 'https://glassopenbook.com/uploads/defect_images/apegg_nnpb_250_5964eb05abdab.png', 'https://glassopenbook.com/uploads/defect_images/apegg_nnpb_250_5964eb0bb150d.png', 'https://glassopenbook.com/uploads/defect_images/apegg_nnpb_250_5964eb1315fe4.png']\",\n          \"['https://glassopenbook.com/uploads/defect_images/apegg_bb_243_580221058c5e2.png', 'https://glassopenbook.com/uploads/defect_images/apegg_bb_243_5802210669450.png', 'https://glassopenbook.com/uploads/defect_images/apegg_bb_243_58022107311da.png', 'https://glassopenbook.com/uploads/defect_images/apegg_pb_243_5802214ac69b0.png', 'https://glassopenbook.com/uploads/defect_images/apegg_pb_243_5802214bacd46.png', 'https://glassopenbook.com/uploads/defect_images/apegg_pb_243_5802214caaada.png', 'https://glassopenbook.com/uploads/defect_images/apegg_pb_243_5818ba39d4cb6.png', 'https://glassopenbook.com/uploads/defect_images/apegg_pb_243_5818ba3aa584a.png', 'https://glassopenbook.com/uploads/defect_images/apegg_pb_243_5818ba3b5522c.png', 'https://glassopenbook.com/uploads/defect_images/apegg_nnpb_243_580221cb2f5a5.png', 'https://glassopenbook.com/uploads/defect_images/apegg_nnpb_243_580221cd473e1.png', 'https://glassopenbook.com/uploads/defect_images/apegg_nnpb_243_580221ce091bb.png', 'https://glassopenbook.com/uploads/defect_images/apegg_nnpb_243_5810edfd88a6b.png', 'https://glassopenbook.com/uploads/defect_images/apegg_nnpb_243_5810edfe470ad.png', 'https://glassopenbook.com/uploads/defect_images/apegg_nnpb_243_5810edff211a9.png']\"\n        ],\n        \"semantic_type\": \"\",\n        \"description\": \"\"\n      }\n    }\n  ]\n}"
            }
          },
          "metadata": {},
          "execution_count": 8
        }
      ]
    },
    {
      "cell_type": "code",
      "source": [
        "len(df)"
      ],
      "metadata": {
        "colab": {
          "base_uri": "https://localhost:8080/"
        },
        "id": "ajEFTf7O28YF",
        "outputId": "ec334c36-3ec3-438d-fcd6-2ef70f43be3d"
      },
      "execution_count": 9,
      "outputs": [
        {
          "output_type": "execute_result",
          "data": {
            "text/plain": [
              "103"
            ]
          },
          "metadata": {},
          "execution_count": 9
        }
      ]
    },
    {
      "cell_type": "code",
      "source": [
        "df.info()"
      ],
      "metadata": {
        "colab": {
          "base_uri": "https://localhost:8080/"
        },
        "id": "tBMAsphn2-iD",
        "outputId": "e813150c-f138-44a2-9e86-89bf3b66a409"
      },
      "execution_count": 10,
      "outputs": [
        {
          "output_type": "stream",
          "name": "stdout",
          "text": [
            "<class 'pandas.core.frame.DataFrame'>\n",
            "RangeIndex: 103 entries, 0 to 102\n",
            "Data columns (total 3 columns):\n",
            " #   Column           Non-Null Count  Dtype \n",
            "---  ------           --------------  ----- \n",
            " 0   defect_name      103 non-null    object\n",
            " 1   defect_position  103 non-null    object\n",
            " 2   high_res_url     103 non-null    object\n",
            "dtypes: object(3)\n",
            "memory usage: 2.5+ KB\n"
          ]
        }
      ]
    },
    {
      "cell_type": "code",
      "source": [
        "#calulate the number of images in each defect\n",
        "col=[len(i.split()) for i in df['high_res_url']]\n",
        "col[:5], len(col)"
      ],
      "metadata": {
        "colab": {
          "base_uri": "https://localhost:8080/"
        },
        "id": "ULYsgohA2pTQ",
        "outputId": "7b5633b9-2da1-43b2-fd3d-033a7e58e65e"
      },
      "execution_count": 11,
      "outputs": [
        {
          "output_type": "execute_result",
          "data": {
            "text/plain": [
              "([8, 8, 2, 9, 9], 103)"
            ]
          },
          "metadata": {},
          "execution_count": 11
        }
      ]
    },
    {
      "cell_type": "code",
      "source": [
        "sum(col)"
      ],
      "metadata": {
        "colab": {
          "base_uri": "https://localhost:8080/"
        },
        "id": "bgRKYZoX7Jut",
        "outputId": "0dc18b1d-e781-4e78-e6fa-33619d50a13d"
      },
      "execution_count": 12,
      "outputs": [
        {
          "output_type": "execute_result",
          "data": {
            "text/plain": [
              "1230"
            ]
          },
          "metadata": {},
          "execution_count": 12
        }
      ]
    },
    {
      "cell_type": "code",
      "source": [
        "df.insert(3, 'defect_image_number', col)"
      ],
      "metadata": {
        "id": "R2pLp9e32J1t"
      },
      "execution_count": 13,
      "outputs": []
    },
    {
      "cell_type": "code",
      "source": [
        "df.head(5)"
      ],
      "metadata": {
        "colab": {
          "base_uri": "https://localhost:8080/",
          "height": 206
        },
        "id": "9ketQPJB5qqj",
        "outputId": "d983a20e-65b3-4350-f7ee-92547b5c13d6"
      },
      "execution_count": 14,
      "outputs": [
        {
          "output_type": "execute_result",
          "data": {
            "text/plain": [
              "       defect_name defect_position  \\\n",
              "0  Deformed Finish          Finish   \n",
              "1    Broken Finish          Finish   \n",
              "2       Stuck Plug          Finish   \n",
              "3     Dirty Finish          Finish   \n",
              "4   Chipped Thread          Finish   \n",
              "\n",
              "                                        high_res_url  defect_image_number  \n",
              "0  ['https://glassopenbook.com/uploads/defect_ima...                    8  \n",
              "1  ['https://glassopenbook.com/uploads/defect_ima...                    8  \n",
              "2  ['https://glassopenbook.com/uploads/defect_ima...                    2  \n",
              "3  ['https://glassopenbook.com/uploads/defect_ima...                    9  \n",
              "4  ['https://glassopenbook.com/uploads/defect_ima...                    9  "
            ],
            "text/html": [
              "\n",
              "  <div id=\"df-ef8ccffa-5f57-4319-8eb1-81af721d9c77\" class=\"colab-df-container\">\n",
              "    <div>\n",
              "<style scoped>\n",
              "    .dataframe tbody tr th:only-of-type {\n",
              "        vertical-align: middle;\n",
              "    }\n",
              "\n",
              "    .dataframe tbody tr th {\n",
              "        vertical-align: top;\n",
              "    }\n",
              "\n",
              "    .dataframe thead th {\n",
              "        text-align: right;\n",
              "    }\n",
              "</style>\n",
              "<table border=\"1\" class=\"dataframe\">\n",
              "  <thead>\n",
              "    <tr style=\"text-align: right;\">\n",
              "      <th></th>\n",
              "      <th>defect_name</th>\n",
              "      <th>defect_position</th>\n",
              "      <th>high_res_url</th>\n",
              "      <th>defect_image_number</th>\n",
              "    </tr>\n",
              "  </thead>\n",
              "  <tbody>\n",
              "    <tr>\n",
              "      <th>0</th>\n",
              "      <td>Deformed Finish</td>\n",
              "      <td>Finish</td>\n",
              "      <td>['https://glassopenbook.com/uploads/defect_ima...</td>\n",
              "      <td>8</td>\n",
              "    </tr>\n",
              "    <tr>\n",
              "      <th>1</th>\n",
              "      <td>Broken Finish</td>\n",
              "      <td>Finish</td>\n",
              "      <td>['https://glassopenbook.com/uploads/defect_ima...</td>\n",
              "      <td>8</td>\n",
              "    </tr>\n",
              "    <tr>\n",
              "      <th>2</th>\n",
              "      <td>Stuck Plug</td>\n",
              "      <td>Finish</td>\n",
              "      <td>['https://glassopenbook.com/uploads/defect_ima...</td>\n",
              "      <td>2</td>\n",
              "    </tr>\n",
              "    <tr>\n",
              "      <th>3</th>\n",
              "      <td>Dirty Finish</td>\n",
              "      <td>Finish</td>\n",
              "      <td>['https://glassopenbook.com/uploads/defect_ima...</td>\n",
              "      <td>9</td>\n",
              "    </tr>\n",
              "    <tr>\n",
              "      <th>4</th>\n",
              "      <td>Chipped Thread</td>\n",
              "      <td>Finish</td>\n",
              "      <td>['https://glassopenbook.com/uploads/defect_ima...</td>\n",
              "      <td>9</td>\n",
              "    </tr>\n",
              "  </tbody>\n",
              "</table>\n",
              "</div>\n",
              "    <div class=\"colab-df-buttons\">\n",
              "\n",
              "  <div class=\"colab-df-container\">\n",
              "    <button class=\"colab-df-convert\" onclick=\"convertToInteractive('df-ef8ccffa-5f57-4319-8eb1-81af721d9c77')\"\n",
              "            title=\"Convert this dataframe to an interactive table.\"\n",
              "            style=\"display:none;\">\n",
              "\n",
              "  <svg xmlns=\"http://www.w3.org/2000/svg\" height=\"24px\" viewBox=\"0 -960 960 960\">\n",
              "    <path d=\"M120-120v-720h720v720H120Zm60-500h600v-160H180v160Zm220 220h160v-160H400v160Zm0 220h160v-160H400v160ZM180-400h160v-160H180v160Zm440 0h160v-160H620v160ZM180-180h160v-160H180v160Zm440 0h160v-160H620v160Z\"/>\n",
              "  </svg>\n",
              "    </button>\n",
              "\n",
              "  <style>\n",
              "    .colab-df-container {\n",
              "      display:flex;\n",
              "      gap: 12px;\n",
              "    }\n",
              "\n",
              "    .colab-df-convert {\n",
              "      background-color: #E8F0FE;\n",
              "      border: none;\n",
              "      border-radius: 50%;\n",
              "      cursor: pointer;\n",
              "      display: none;\n",
              "      fill: #1967D2;\n",
              "      height: 32px;\n",
              "      padding: 0 0 0 0;\n",
              "      width: 32px;\n",
              "    }\n",
              "\n",
              "    .colab-df-convert:hover {\n",
              "      background-color: #E2EBFA;\n",
              "      box-shadow: 0px 1px 2px rgba(60, 64, 67, 0.3), 0px 1px 3px 1px rgba(60, 64, 67, 0.15);\n",
              "      fill: #174EA6;\n",
              "    }\n",
              "\n",
              "    .colab-df-buttons div {\n",
              "      margin-bottom: 4px;\n",
              "    }\n",
              "\n",
              "    [theme=dark] .colab-df-convert {\n",
              "      background-color: #3B4455;\n",
              "      fill: #D2E3FC;\n",
              "    }\n",
              "\n",
              "    [theme=dark] .colab-df-convert:hover {\n",
              "      background-color: #434B5C;\n",
              "      box-shadow: 0px 1px 3px 1px rgba(0, 0, 0, 0.15);\n",
              "      filter: drop-shadow(0px 1px 2px rgba(0, 0, 0, 0.3));\n",
              "      fill: #FFFFFF;\n",
              "    }\n",
              "  </style>\n",
              "\n",
              "    <script>\n",
              "      const buttonEl =\n",
              "        document.querySelector('#df-ef8ccffa-5f57-4319-8eb1-81af721d9c77 button.colab-df-convert');\n",
              "      buttonEl.style.display =\n",
              "        google.colab.kernel.accessAllowed ? 'block' : 'none';\n",
              "\n",
              "      async function convertToInteractive(key) {\n",
              "        const element = document.querySelector('#df-ef8ccffa-5f57-4319-8eb1-81af721d9c77');\n",
              "        const dataTable =\n",
              "          await google.colab.kernel.invokeFunction('convertToInteractive',\n",
              "                                                    [key], {});\n",
              "        if (!dataTable) return;\n",
              "\n",
              "        const docLinkHtml = 'Like what you see? Visit the ' +\n",
              "          '<a target=\"_blank\" href=https://colab.research.google.com/notebooks/data_table.ipynb>data table notebook</a>'\n",
              "          + ' to learn more about interactive tables.';\n",
              "        element.innerHTML = '';\n",
              "        dataTable['output_type'] = 'display_data';\n",
              "        await google.colab.output.renderOutput(dataTable, element);\n",
              "        const docLink = document.createElement('div');\n",
              "        docLink.innerHTML = docLinkHtml;\n",
              "        element.appendChild(docLink);\n",
              "      }\n",
              "    </script>\n",
              "  </div>\n",
              "\n",
              "\n",
              "<div id=\"df-9c944acb-83d0-4d0b-9f38-84f233bc475f\">\n",
              "  <button class=\"colab-df-quickchart\" onclick=\"quickchart('df-9c944acb-83d0-4d0b-9f38-84f233bc475f')\"\n",
              "            title=\"Suggest charts\"\n",
              "            style=\"display:none;\">\n",
              "\n",
              "<svg xmlns=\"http://www.w3.org/2000/svg\" height=\"24px\"viewBox=\"0 0 24 24\"\n",
              "     width=\"24px\">\n",
              "    <g>\n",
              "        <path d=\"M19 3H5c-1.1 0-2 .9-2 2v14c0 1.1.9 2 2 2h14c1.1 0 2-.9 2-2V5c0-1.1-.9-2-2-2zM9 17H7v-7h2v7zm4 0h-2V7h2v10zm4 0h-2v-4h2v4z\"/>\n",
              "    </g>\n",
              "</svg>\n",
              "  </button>\n",
              "\n",
              "<style>\n",
              "  .colab-df-quickchart {\n",
              "      --bg-color: #E8F0FE;\n",
              "      --fill-color: #1967D2;\n",
              "      --hover-bg-color: #E2EBFA;\n",
              "      --hover-fill-color: #174EA6;\n",
              "      --disabled-fill-color: #AAA;\n",
              "      --disabled-bg-color: #DDD;\n",
              "  }\n",
              "\n",
              "  [theme=dark] .colab-df-quickchart {\n",
              "      --bg-color: #3B4455;\n",
              "      --fill-color: #D2E3FC;\n",
              "      --hover-bg-color: #434B5C;\n",
              "      --hover-fill-color: #FFFFFF;\n",
              "      --disabled-bg-color: #3B4455;\n",
              "      --disabled-fill-color: #666;\n",
              "  }\n",
              "\n",
              "  .colab-df-quickchart {\n",
              "    background-color: var(--bg-color);\n",
              "    border: none;\n",
              "    border-radius: 50%;\n",
              "    cursor: pointer;\n",
              "    display: none;\n",
              "    fill: var(--fill-color);\n",
              "    height: 32px;\n",
              "    padding: 0;\n",
              "    width: 32px;\n",
              "  }\n",
              "\n",
              "  .colab-df-quickchart:hover {\n",
              "    background-color: var(--hover-bg-color);\n",
              "    box-shadow: 0 1px 2px rgba(60, 64, 67, 0.3), 0 1px 3px 1px rgba(60, 64, 67, 0.15);\n",
              "    fill: var(--button-hover-fill-color);\n",
              "  }\n",
              "\n",
              "  .colab-df-quickchart-complete:disabled,\n",
              "  .colab-df-quickchart-complete:disabled:hover {\n",
              "    background-color: var(--disabled-bg-color);\n",
              "    fill: var(--disabled-fill-color);\n",
              "    box-shadow: none;\n",
              "  }\n",
              "\n",
              "  .colab-df-spinner {\n",
              "    border: 2px solid var(--fill-color);\n",
              "    border-color: transparent;\n",
              "    border-bottom-color: var(--fill-color);\n",
              "    animation:\n",
              "      spin 1s steps(1) infinite;\n",
              "  }\n",
              "\n",
              "  @keyframes spin {\n",
              "    0% {\n",
              "      border-color: transparent;\n",
              "      border-bottom-color: var(--fill-color);\n",
              "      border-left-color: var(--fill-color);\n",
              "    }\n",
              "    20% {\n",
              "      border-color: transparent;\n",
              "      border-left-color: var(--fill-color);\n",
              "      border-top-color: var(--fill-color);\n",
              "    }\n",
              "    30% {\n",
              "      border-color: transparent;\n",
              "      border-left-color: var(--fill-color);\n",
              "      border-top-color: var(--fill-color);\n",
              "      border-right-color: var(--fill-color);\n",
              "    }\n",
              "    40% {\n",
              "      border-color: transparent;\n",
              "      border-right-color: var(--fill-color);\n",
              "      border-top-color: var(--fill-color);\n",
              "    }\n",
              "    60% {\n",
              "      border-color: transparent;\n",
              "      border-right-color: var(--fill-color);\n",
              "    }\n",
              "    80% {\n",
              "      border-color: transparent;\n",
              "      border-right-color: var(--fill-color);\n",
              "      border-bottom-color: var(--fill-color);\n",
              "    }\n",
              "    90% {\n",
              "      border-color: transparent;\n",
              "      border-bottom-color: var(--fill-color);\n",
              "    }\n",
              "  }\n",
              "</style>\n",
              "\n",
              "  <script>\n",
              "    async function quickchart(key) {\n",
              "      const quickchartButtonEl =\n",
              "        document.querySelector('#' + key + ' button');\n",
              "      quickchartButtonEl.disabled = true;  // To prevent multiple clicks.\n",
              "      quickchartButtonEl.classList.add('colab-df-spinner');\n",
              "      try {\n",
              "        const charts = await google.colab.kernel.invokeFunction(\n",
              "            'suggestCharts', [key], {});\n",
              "      } catch (error) {\n",
              "        console.error('Error during call to suggestCharts:', error);\n",
              "      }\n",
              "      quickchartButtonEl.classList.remove('colab-df-spinner');\n",
              "      quickchartButtonEl.classList.add('colab-df-quickchart-complete');\n",
              "    }\n",
              "    (() => {\n",
              "      let quickchartButtonEl =\n",
              "        document.querySelector('#df-9c944acb-83d0-4d0b-9f38-84f233bc475f button');\n",
              "      quickchartButtonEl.style.display =\n",
              "        google.colab.kernel.accessAllowed ? 'block' : 'none';\n",
              "    })();\n",
              "  </script>\n",
              "</div>\n",
              "\n",
              "    </div>\n",
              "  </div>\n"
            ],
            "application/vnd.google.colaboratory.intrinsic+json": {
              "type": "dataframe",
              "variable_name": "df",
              "summary": "{\n  \"name\": \"df\",\n  \"rows\": 103,\n  \"fields\": [\n    {\n      \"column\": \"defect_name\",\n      \"properties\": {\n        \"dtype\": \"string\",\n        \"num_unique_values\": 103,\n        \"samples\": [\n          \"Dropped Bottom\",\n          \"Black Spots\",\n          \"Check in Body\"\n        ],\n        \"semantic_type\": \"\",\n        \"description\": \"\"\n      }\n    },\n    {\n      \"column\": \"defect_position\",\n      \"properties\": {\n        \"dtype\": \"category\",\n        \"num_unique_values\": 21,\n        \"samples\": [\n          \"Finish\",\n          \"Neck, Body, Heel, Base\",\n          \"Finish, Neck, Body\"\n        ],\n        \"semantic_type\": \"\",\n        \"description\": \"\"\n      }\n    },\n    {\n      \"column\": \"high_res_url\",\n      \"properties\": {\n        \"dtype\": \"string\",\n        \"num_unique_values\": 103,\n        \"samples\": [\n          \"['https://glassopenbook.com/uploads/defect_images/apegg_bb_185_582b4fba398b1.png', 'https://glassopenbook.com/uploads/defect_images/apegg_bb_185_595cd7197f3c3.png', 'https://glassopenbook.com/uploads/defect_images/apegg_bb_185_595cd71eaeacf.png', 'https://glassopenbook.com/uploads/defect_images/apegg_pb_185_58189995a29de.png', 'https://glassopenbook.com/uploads/defect_images/apegg_pb_185_581899969f95a.png', 'https://glassopenbook.com/uploads/defect_images/apegg_pb_185_58189997771b8.png', 'https://glassopenbook.com/uploads/defect_images/apegg_nnpb_185_5810e6b737b2f.png', 'https://glassopenbook.com/uploads/defect_images/apegg_nnpb_185_5810e6b802da5.png', 'https://glassopenbook.com/uploads/defect_images/apegg_nnpb_185_5810e6b8a800b.png']\",\n          \"['https://glassopenbook.com/uploads/defect_images/apegg_pb_250_5818bace11a1f.png', 'https://glassopenbook.com/uploads/defect_images/apegg_pb_250_5818bacedba20.png', 'https://glassopenbook.com/uploads/defect_images/apegg_pb_250_5818bad0122bb.png', 'https://glassopenbook.com/uploads/defect_images/apegg_pb_250_5964ebc442a78.png', 'https://glassopenbook.com/uploads/defect_images/apegg_pb_250_5964ebcbd8f09.png', 'https://glassopenbook.com/uploads/defect_images/apegg_pb_250_5964ebd5c0d89.png', 'https://glassopenbook.com/uploads/defect_images/apegg_pb_250_5964ebe996948.png', 'https://glassopenbook.com/uploads/defect_images/apegg_pb_250_5964ebef57e87.png', 'https://glassopenbook.com/uploads/defect_images/apegg_pb_250_5964ebf7626c5.png', 'https://glassopenbook.com/uploads/defect_images/apegg_nnpb_250_577e9ccd0ee30.png', 'https://glassopenbook.com/uploads/defect_images/apegg_nnpb_250_577e9ccde90ac.png', 'https://glassopenbook.com/uploads/defect_images/apegg_nnpb_250_577e9cceb1e3b.png', 'https://glassopenbook.com/uploads/defect_images/apegg_nnpb_250_5922f64bc7c46.png', 'https://glassopenbook.com/uploads/defect_images/apegg_nnpb_250_5922f6513099e.png', 'https://glassopenbook.com/uploads/defect_images/apegg_nnpb_250_5922f65617d1a.png', 'https://glassopenbook.com/uploads/defect_images/apegg_nnpb_250_5964eb05abdab.png', 'https://glassopenbook.com/uploads/defect_images/apegg_nnpb_250_5964eb0bb150d.png', 'https://glassopenbook.com/uploads/defect_images/apegg_nnpb_250_5964eb1315fe4.png']\",\n          \"['https://glassopenbook.com/uploads/defect_images/apegg_bb_243_580221058c5e2.png', 'https://glassopenbook.com/uploads/defect_images/apegg_bb_243_5802210669450.png', 'https://glassopenbook.com/uploads/defect_images/apegg_bb_243_58022107311da.png', 'https://glassopenbook.com/uploads/defect_images/apegg_pb_243_5802214ac69b0.png', 'https://glassopenbook.com/uploads/defect_images/apegg_pb_243_5802214bacd46.png', 'https://glassopenbook.com/uploads/defect_images/apegg_pb_243_5802214caaada.png', 'https://glassopenbook.com/uploads/defect_images/apegg_pb_243_5818ba39d4cb6.png', 'https://glassopenbook.com/uploads/defect_images/apegg_pb_243_5818ba3aa584a.png', 'https://glassopenbook.com/uploads/defect_images/apegg_pb_243_5818ba3b5522c.png', 'https://glassopenbook.com/uploads/defect_images/apegg_nnpb_243_580221cb2f5a5.png', 'https://glassopenbook.com/uploads/defect_images/apegg_nnpb_243_580221cd473e1.png', 'https://glassopenbook.com/uploads/defect_images/apegg_nnpb_243_580221ce091bb.png', 'https://glassopenbook.com/uploads/defect_images/apegg_nnpb_243_5810edfd88a6b.png', 'https://glassopenbook.com/uploads/defect_images/apegg_nnpb_243_5810edfe470ad.png', 'https://glassopenbook.com/uploads/defect_images/apegg_nnpb_243_5810edff211a9.png']\"\n        ],\n        \"semantic_type\": \"\",\n        \"description\": \"\"\n      }\n    },\n    {\n      \"column\": \"defect_image_number\",\n      \"properties\": {\n        \"dtype\": \"number\",\n        \"std\": 8,\n        \"min\": 2,\n        \"max\": 49,\n        \"num_unique_values\": 23,\n        \"samples\": [\n          31,\n          23,\n          8\n        ],\n        \"semantic_type\": \"\",\n        \"description\": \"\"\n      }\n    }\n  ]\n}"
            }
          },
          "metadata": {},
          "execution_count": 14
        }
      ]
    },
    {
      "source": [
        "# defect count by position\n",
        "import matplotlib.pyplot as plt\n",
        "df.groupby('defect_position')['defect_name'].count().plot(kind='bar')\n",
        "plt.title('Defect Count by Position')\n",
        "plt.xlabel('Defect Position')\n",
        "_ = plt.ylabel('Defect Count')"
      ],
      "cell_type": "code",
      "execution_count": 15,
      "outputs": [
        {
          "output_type": "display_data",
          "data": {
            "text/plain": [
              "<Figure size 640x480 with 1 Axes>"
            ],
            "image/png": "[encoded data removed]"
          },
          "metadata": {}
        }
      ],
      "metadata": {
        "colab": {
          "base_uri": "https://localhost:8080/",
          "height": 738
        },
        "id": "Q_zgFC2O6Xsh",
        "outputId": "08a624df-5aa7-407c-d406-879c0887aa68"
      }
    },
    {
      "cell_type": "markdown",
      "source": [
        "# Build the dataset for clip\n",
        "##### Get the image corresponding to its defect name\n",
        "Example on one"
      ],
      "metadata": {
        "id": "esCMj__o7bwY"
      }
    },
    {
      "cell_type": "code",
      "source": [
        "import re\n",
        "pattern = r'(\\d+)_(\\d+)\\.png$'\n",
        "#url=urls.split()[7]\n",
        "url = 'https://glassopenbook.com/uploads/defect_images/apegg_bb_101_5600388186984.png'\n",
        "match=re.search(pattern, url)\n",
        "image_name=match.group()"
      ],
      "metadata": {
        "id": "kosokFC07mVe"
      },
      "execution_count": 16,
      "outputs": []
    },
    {
      "cell_type": "code",
      "source": [
        "image=Image.open(image_path+image_name)"
      ],
      "metadata": {
        "id": "oDYH2ysH-9kt"
      },
      "execution_count": 17,
      "outputs": []
    },
    {
      "cell_type": "code",
      "source": [
        "image"
      ],
      "metadata": {
        "colab": {
          "base_uri": "https://localhost:8080/",
          "height": 529
        },
        "id": "5ZTFsV4uAqIo",
        "outputId": "c733de67-0ecb-44ec-a753-bc4da15bd7f9"
      },
      "execution_count": 18,
      "outputs": [
        {
          "output_type": "execute_result",
          "data": {
            "text/plain": [
              "<PIL.PngImagePlugin.PngImageFile image mode=RGB size=452x512>"
            ],
            "image/png": "[encoded data removed]"
          },
          "metadata": {},
          "execution_count": 18
        }
      ]
    },
    {
      "cell_type": "markdown",
      "source": [
        "##### Batch process to build the dataset"
      ],
      "metadata": {
        "id": "Xv187SvoCEwO"
      }
    },
    {
      "cell_type": "code",
      "source": [
        "list_image_path=[]\n",
        "list_txt=[]\n",
        "pattern = r'(\\d+)_[a-zA-Z\\d]+\\.png$'"
      ],
      "metadata": {
        "id": "cGoP8yBZCabg"
      },
      "execution_count": 49,
      "outputs": []
    },
    {
      "cell_type": "code",
      "source": [
        "for i in range(len(df)):#### test for 2\n",
        "  urls=df['high_res_url'][i][1:-1].replace(\"'\",\"\").split(',')  # need to remove '[' and ']' at the front and the end\n",
        "  for j in urls:\n",
        "    list_txt.append(df['defect_name'][i])\n",
        "    match=re.search(pattern, j)  # need to remove \"'\" and \"'\" at the front and the end\n",
        "    list_image_path.append(image_path+match.group())"
      ],
      "metadata": {
        "id": "EKuCDTPAB4Ne"
      },
      "execution_count": 51,
      "outputs": []
    },
    {
      "cell_type": "code",
      "source": [
        "j"
      ],
      "metadata": {
        "colab": {
          "base_uri": "https://localhost:8080/",
          "height": 35
        },
        "id": "pnNocIvgYR33",
        "outputId": "6b002a06-645a-4507-dd92-fa1c46e0a4e0"
      },
      "execution_count": 52,
      "outputs": [
        {
          "output_type": "execute_result",
          "data": {
            "text/plain": [
              "' https://glassopenbook.com/uploads/defect_images/apegg_nnpb_405_58f0e4b373297.png'"
            ],
            "application/vnd.google.colaboratory.intrinsic+json": {
              "type": "string"
            }
          },
          "metadata": {},
          "execution_count": 52
        }
      ]
    },
    {
      "cell_type": "code",
      "source": [
        "print(len(list_image_path))\n",
        "print(len(list_txt))"
      ],
      "metadata": {
        "colab": {
          "base_uri": "https://localhost:8080/"
        },
        "id": "A5mwrkWXXCvO",
        "outputId": "6077765b-e9a2-4509-8c9a-cff4a1e33e97"
      },
      "execution_count": 53,
      "outputs": [
        {
          "output_type": "stream",
          "name": "stdout",
          "text": [
            "2460\n",
            "2460\n"
          ]
        }
      ]
    },
    {
      "cell_type": "code",
      "execution_count": 224,
      "metadata": {
        "id": "08SCHUVRd15d"
      },
      "outputs": [],
      "source": [
        "# # Load the CLIP model and processor\n",
        "#model_original = CLIPModel.from_pretrained(\"openai/clip-vit-base-patch32\")\n",
        "#processor_original = CLIPProcessor.from_pretrained(\"openai/clip-vit-base-patch32\")"
      ]
    },
    {
      "cell_type": "code",
      "execution_count": 54,
      "metadata": {
        "colab": {
          "base_uri": "https://localhost:8080/"
        },
        "id": "0j8OuQkkejt2",
        "outputId": "34a09fea-f0d0-4c11-9e96-7c035b740089"
      },
      "outputs": [
        {
          "output_type": "stream",
          "name": "stdout",
          "text": [
            "device is cuda:0\n"
          ]
        }
      ],
      "source": [
        "# Choose computation device\n",
        "device = \"cuda:0\" if torch.cuda.is_available() else \"cpu\"\n",
        "print(f\"device is {device}\")"
      ]
    },
    {
      "cell_type": "markdown",
      "metadata": {
        "id": "dDc_9lwOgMNu"
      },
      "source": [
        "# 2. Load the pretrained model and preprocess"
      ]
    },
    {
      "cell_type": "code",
      "execution_count": 21,
      "metadata": {
        "colab": {
          "base_uri": "https://localhost:8080/"
        },
        "id": "iANz-Uz2d7-Q",
        "outputId": "b1456334-be1a-4331-a2d7-560029307f7d"
      },
      "outputs": [
        {
          "output_type": "stream",
          "name": "stderr",
          "text": [
            "100%|███████████████████████████████████████| 338M/338M [00:05<00:00, 60.2MiB/s]\n"
          ]
        }
      ],
      "source": [
        "# Load pre-trained CLIP model\n",
        "model, preprocess = clip.load(\"ViT-B/32\", device=0, jit=False)"
      ]
    },
    {
      "cell_type": "code",
      "execution_count": null,
      "metadata": {
        "id": "s4PNjWrGeSzi"
      },
      "outputs": [],
      "source": [
        "model_original"
      ]
    },
    {
      "cell_type": "code",
      "source": [
        "processor_original"
      ],
      "metadata": {
        "id": "cMbZONdQgwKG"
      },
      "execution_count": null,
      "outputs": []
    },
    {
      "cell_type": "code",
      "source": [
        "model, preprocess"
      ],
      "metadata": {
        "colab": {
          "base_uri": "https://localhost:8080/"
        },
        "id": "PTBdVVqjW5AE",
        "outputId": "ab992ac1-0e9d-4a6c-9c24-cfa434a8ab46"
      },
      "execution_count": 22,
      "outputs": [
        {
          "output_type": "execute_result",
          "data": {
            "text/plain": [
              "(CLIP(\n",
              "   (visual): VisionTransformer(\n",
              "     (conv1): Conv2d(3, 768, kernel_size=(32, 32), stride=(32, 32), bias=False)\n",
              "     (ln_pre): LayerNorm((768,), eps=1e-05, elementwise_affine=True)\n",
              "     (transformer): Transformer(\n",
              "       (resblocks): Sequential(\n",
              "         (0): ResidualAttentionBlock(\n",
              "           (attn): MultiheadAttention(\n",
              "             (out_proj): NonDynamicallyQuantizableLinear(in_features=768, out_features=768, bias=True)\n",
              "           )\n",
              "           (ln_1): LayerNorm((768,), eps=1e-05, elementwise_affine=True)\n",
              "           (mlp): Sequential(\n",
              "             (c_fc): Linear(in_features=768, out_features=3072, bias=True)\n",
              "             (gelu): QuickGELU()\n",
              "             (c_proj): Linear(in_features=3072, out_features=768, bias=True)\n",
              "           )\n",
              "           (ln_2): LayerNorm((768,), eps=1e-05, elementwise_affine=True)\n",
              "         )\n",
              "         (1): ResidualAttentionBlock(\n",
              "           (attn): MultiheadAttention(\n",
              "             (out_proj): NonDynamicallyQuantizableLinear(in_features=768, out_features=768, bias=True)\n",
              "           )\n",
              "           (ln_1): LayerNorm((768,), eps=1e-05, elementwise_affine=True)\n",
              "           (mlp): Sequential(\n",
              "             (c_fc): Linear(in_features=768, out_features=3072, bias=True)\n",
              "             (gelu): QuickGELU()\n",
              "             (c_proj): Linear(in_features=3072, out_features=768, bias=True)\n",
              "           )\n",
              "           (ln_2): LayerNorm((768,), eps=1e-05, elementwise_affine=True)\n",
              "         )\n",
              "         (2): ResidualAttentionBlock(\n",
              "           (attn): MultiheadAttention(\n",
              "             (out_proj): NonDynamicallyQuantizableLinear(in_features=768, out_features=768, bias=True)\n",
              "           )\n",
              "           (ln_1): LayerNorm((768,), eps=1e-05, elementwise_affine=True)\n",
              "           (mlp): Sequential(\n",
              "             (c_fc): Linear(in_features=768, out_features=3072, bias=True)\n",
              "             (gelu): QuickGELU()\n",
              "             (c_proj): Linear(in_features=3072, out_features=768, bias=True)\n",
              "           )\n",
              "           (ln_2): LayerNorm((768,), eps=1e-05, elementwise_affine=True)\n",
              "         )\n",
              "         (3): ResidualAttentionBlock(\n",
              "           (attn): MultiheadAttention(\n",
              "             (out_proj): NonDynamicallyQuantizableLinear(in_features=768, out_features=768, bias=True)\n",
              "           )\n",
              "           (ln_1): LayerNorm((768,), eps=1e-05, elementwise_affine=True)\n",
              "           (mlp): Sequential(\n",
              "             (c_fc): Linear(in_features=768, out_features=3072, bias=True)\n",
              "             (gelu): QuickGELU()\n",
              "             (c_proj): Linear(in_features=3072, out_features=768, bias=True)\n",
              "           )\n",
              "           (ln_2): LayerNorm((768,), eps=1e-05, elementwise_affine=True)\n",
              "         )\n",
              "         (4): ResidualAttentionBlock(\n",
              "           (attn): MultiheadAttention(\n",
              "             (out_proj): NonDynamicallyQuantizableLinear(in_features=768, out_features=768, bias=True)\n",
              "           )\n",
              "           (ln_1): LayerNorm((768,), eps=1e-05, elementwise_affine=True)\n",
              "           (mlp): Sequential(\n",
              "             (c_fc): Linear(in_features=768, out_features=3072, bias=True)\n",
              "             (gelu): QuickGELU()\n",
              "             (c_proj): Linear(in_features=3072, out_features=768, bias=True)\n",
              "           )\n",
              "           (ln_2): LayerNorm((768,), eps=1e-05, elementwise_affine=True)\n",
              "         )\n",
              "         (5): ResidualAttentionBlock(\n",
              "           (attn): MultiheadAttention(\n",
              "             (out_proj): NonDynamicallyQuantizableLinear(in_features=768, out_features=768, bias=True)\n",
              "           )\n",
              "           (ln_1): LayerNorm((768,), eps=1e-05, elementwise_affine=True)\n",
              "           (mlp): Sequential(\n",
              "             (c_fc): Linear(in_features=768, out_features=3072, bias=True)\n",
              "             (gelu): QuickGELU()\n",
              "             (c_proj): Linear(in_features=3072, out_features=768, bias=True)\n",
              "           )\n",
              "           (ln_2): LayerNorm((768,), eps=1e-05, elementwise_affine=True)\n",
              "         )\n",
              "         (6): ResidualAttentionBlock(\n",
              "           (attn): MultiheadAttention(\n",
              "             (out_proj): NonDynamicallyQuantizableLinear(in_features=768, out_features=768, bias=True)\n",
              "           )\n",
              "           (ln_1): LayerNorm((768,), eps=1e-05, elementwise_affine=True)\n",
              "           (mlp): Sequential(\n",
              "             (c_fc): Linear(in_features=768, out_features=3072, bias=True)\n",
              "             (gelu): QuickGELU()\n",
              "             (c_proj): Linear(in_features=3072, out_features=768, bias=True)\n",
              "           )\n",
              "           (ln_2): LayerNorm((768,), eps=1e-05, elementwise_affine=True)\n",
              "         )\n",
              "         (7): ResidualAttentionBlock(\n",
              "           (attn): MultiheadAttention(\n",
              "             (out_proj): NonDynamicallyQuantizableLinear(in_features=768, out_features=768, bias=True)\n",
              "           )\n",
              "           (ln_1): LayerNorm((768,), eps=1e-05, elementwise_affine=True)\n",
              "           (mlp): Sequential(\n",
              "             (c_fc): Linear(in_features=768, out_features=3072, bias=True)\n",
              "             (gelu): QuickGELU()\n",
              "             (c_proj): Linear(in_features=3072, out_features=768, bias=True)\n",
              "           )\n",
              "           (ln_2): LayerNorm((768,), eps=1e-05, elementwise_affine=True)\n",
              "         )\n",
              "         (8): ResidualAttentionBlock(\n",
              "           (attn): MultiheadAttention(\n",
              "             (out_proj): NonDynamicallyQuantizableLinear(in_features=768, out_features=768, bias=True)\n",
              "           )\n",
              "           (ln_1): LayerNorm((768,), eps=1e-05, elementwise_affine=True)\n",
              "           (mlp): Sequential(\n",
              "             (c_fc): Linear(in_features=768, out_features=3072, bias=True)\n",
              "             (gelu): QuickGELU()\n",
              "             (c_proj): Linear(in_features=3072, out_features=768, bias=True)\n",
              "           )\n",
              "           (ln_2): LayerNorm((768,), eps=1e-05, elementwise_affine=True)\n",
              "         )\n",
              "         (9): ResidualAttentionBlock(\n",
              "           (attn): MultiheadAttention(\n",
              "             (out_proj): NonDynamicallyQuantizableLinear(in_features=768, out_features=768, bias=True)\n",
              "           )\n",
              "           (ln_1): LayerNorm((768,), eps=1e-05, elementwise_affine=True)\n",
              "           (mlp): Sequential(\n",
              "             (c_fc): Linear(in_features=768, out_features=3072, bias=True)\n",
              "             (gelu): QuickGELU()\n",
              "             (c_proj): Linear(in_features=3072, out_features=768, bias=True)\n",
              "           )\n",
              "           (ln_2): LayerNorm((768,), eps=1e-05, elementwise_affine=True)\n",
              "         )\n",
              "         (10): ResidualAttentionBlock(\n",
              "           (attn): MultiheadAttention(\n",
              "             (out_proj): NonDynamicallyQuantizableLinear(in_features=768, out_features=768, bias=True)\n",
              "           )\n",
              "           (ln_1): LayerNorm((768,), eps=1e-05, elementwise_affine=True)\n",
              "           (mlp): Sequential(\n",
              "             (c_fc): Linear(in_features=768, out_features=3072, bias=True)\n",
              "             (gelu): QuickGELU()\n",
              "             (c_proj): Linear(in_features=3072, out_features=768, bias=True)\n",
              "           )\n",
              "           (ln_2): LayerNorm((768,), eps=1e-05, elementwise_affine=True)\n",
              "         )\n",
              "         (11): ResidualAttentionBlock(\n",
              "           (attn): MultiheadAttention(\n",
              "             (out_proj): NonDynamicallyQuantizableLinear(in_features=768, out_features=768, bias=True)\n",
              "           )\n",
              "           (ln_1): LayerNorm((768,), eps=1e-05, elementwise_affine=True)\n",
              "           (mlp): Sequential(\n",
              "             (c_fc): Linear(in_features=768, out_features=3072, bias=True)\n",
              "             (gelu): QuickGELU()\n",
              "             (c_proj): Linear(in_features=3072, out_features=768, bias=True)\n",
              "           )\n",
              "           (ln_2): LayerNorm((768,), eps=1e-05, elementwise_affine=True)\n",
              "         )\n",
              "       )\n",
              "     )\n",
              "     (ln_post): LayerNorm((768,), eps=1e-05, elementwise_affine=True)\n",
              "   )\n",
              "   (transformer): Transformer(\n",
              "     (resblocks): Sequential(\n",
              "       (0): ResidualAttentionBlock(\n",
              "         (attn): MultiheadAttention(\n",
              "           (out_proj): NonDynamicallyQuantizableLinear(in_features=512, out_features=512, bias=True)\n",
              "         )\n",
              "         (ln_1): LayerNorm((512,), eps=1e-05, elementwise_affine=True)\n",
              "         (mlp): Sequential(\n",
              "           (c_fc): Linear(in_features=512, out_features=2048, bias=True)\n",
              "           (gelu): QuickGELU()\n",
              "           (c_proj): Linear(in_features=2048, out_features=512, bias=True)\n",
              "         )\n",
              "         (ln_2): LayerNorm((512,), eps=1e-05, elementwise_affine=True)\n",
              "       )\n",
              "       (1): ResidualAttentionBlock(\n",
              "         (attn): MultiheadAttention(\n",
              "           (out_proj): NonDynamicallyQuantizableLinear(in_features=512, out_features=512, bias=True)\n",
              "         )\n",
              "         (ln_1): LayerNorm((512,), eps=1e-05, elementwise_affine=True)\n",
              "         (mlp): Sequential(\n",
              "           (c_fc): Linear(in_features=512, out_features=2048, bias=True)\n",
              "           (gelu): QuickGELU()\n",
              "           (c_proj): Linear(in_features=2048, out_features=512, bias=True)\n",
              "         )\n",
              "         (ln_2): LayerNorm((512,), eps=1e-05, elementwise_affine=True)\n",
              "       )\n",
              "       (2): ResidualAttentionBlock(\n",
              "         (attn): MultiheadAttention(\n",
              "           (out_proj): NonDynamicallyQuantizableLinear(in_features=512, out_features=512, bias=True)\n",
              "         )\n",
              "         (ln_1): LayerNorm((512,), eps=1e-05, elementwise_affine=True)\n",
              "         (mlp): Sequential(\n",
              "           (c_fc): Linear(in_features=512, out_features=2048, bias=True)\n",
              "           (gelu): QuickGELU()\n",
              "           (c_proj): Linear(in_features=2048, out_features=512, bias=True)\n",
              "         )\n",
              "         (ln_2): LayerNorm((512,), eps=1e-05, elementwise_affine=True)\n",
              "       )\n",
              "       (3): ResidualAttentionBlock(\n",
              "         (attn): MultiheadAttention(\n",
              "           (out_proj): NonDynamicallyQuantizableLinear(in_features=512, out_features=512, bias=True)\n",
              "         )\n",
              "         (ln_1): LayerNorm((512,), eps=1e-05, elementwise_affine=True)\n",
              "         (mlp): Sequential(\n",
              "           (c_fc): Linear(in_features=512, out_features=2048, bias=True)\n",
              "           (gelu): QuickGELU()\n",
              "           (c_proj): Linear(in_features=2048, out_features=512, bias=True)\n",
              "         )\n",
              "         (ln_2): LayerNorm((512,), eps=1e-05, elementwise_affine=True)\n",
              "       )\n",
              "       (4): ResidualAttentionBlock(\n",
              "         (attn): MultiheadAttention(\n",
              "           (out_proj): NonDynamicallyQuantizableLinear(in_features=512, out_features=512, bias=True)\n",
              "         )\n",
              "         (ln_1): LayerNorm((512,), eps=1e-05, elementwise_affine=True)\n",
              "         (mlp): Sequential(\n",
              "           (c_fc): Linear(in_features=512, out_features=2048, bias=True)\n",
              "           (gelu): QuickGELU()\n",
              "           (c_proj): Linear(in_features=2048, out_features=512, bias=True)\n",
              "         )\n",
              "         (ln_2): LayerNorm((512,), eps=1e-05, elementwise_affine=True)\n",
              "       )\n",
              "       (5): ResidualAttentionBlock(\n",
              "         (attn): MultiheadAttention(\n",
              "           (out_proj): NonDynamicallyQuantizableLinear(in_features=512, out_features=512, bias=True)\n",
              "         )\n",
              "         (ln_1): LayerNorm((512,), eps=1e-05, elementwise_affine=True)\n",
              "         (mlp): Sequential(\n",
              "           (c_fc): Linear(in_features=512, out_features=2048, bias=True)\n",
              "           (gelu): QuickGELU()\n",
              "           (c_proj): Linear(in_features=2048, out_features=512, bias=True)\n",
              "         )\n",
              "         (ln_2): LayerNorm((512,), eps=1e-05, elementwise_affine=True)\n",
              "       )\n",
              "       (6): ResidualAttentionBlock(\n",
              "         (attn): MultiheadAttention(\n",
              "           (out_proj): NonDynamicallyQuantizableLinear(in_features=512, out_features=512, bias=True)\n",
              "         )\n",
              "         (ln_1): LayerNorm((512,), eps=1e-05, elementwise_affine=True)\n",
              "         (mlp): Sequential(\n",
              "           (c_fc): Linear(in_features=512, out_features=2048, bias=True)\n",
              "           (gelu): QuickGELU()\n",
              "           (c_proj): Linear(in_features=2048, out_features=512, bias=True)\n",
              "         )\n",
              "         (ln_2): LayerNorm((512,), eps=1e-05, elementwise_affine=True)\n",
              "       )\n",
              "       (7): ResidualAttentionBlock(\n",
              "         (attn): MultiheadAttention(\n",
              "           (out_proj): NonDynamicallyQuantizableLinear(in_features=512, out_features=512, bias=True)\n",
              "         )\n",
              "         (ln_1): LayerNorm((512,), eps=1e-05, elementwise_affine=True)\n",
              "         (mlp): Sequential(\n",
              "           (c_fc): Linear(in_features=512, out_features=2048, bias=True)\n",
              "           (gelu): QuickGELU()\n",
              "           (c_proj): Linear(in_features=2048, out_features=512, bias=True)\n",
              "         )\n",
              "         (ln_2): LayerNorm((512,), eps=1e-05, elementwise_affine=True)\n",
              "       )\n",
              "       (8): ResidualAttentionBlock(\n",
              "         (attn): MultiheadAttention(\n",
              "           (out_proj): NonDynamicallyQuantizableLinear(in_features=512, out_features=512, bias=True)\n",
              "         )\n",
              "         (ln_1): LayerNorm((512,), eps=1e-05, elementwise_affine=True)\n",
              "         (mlp): Sequential(\n",
              "           (c_fc): Linear(in_features=512, out_features=2048, bias=True)\n",
              "           (gelu): QuickGELU()\n",
              "           (c_proj): Linear(in_features=2048, out_features=512, bias=True)\n",
              "         )\n",
              "         (ln_2): LayerNorm((512,), eps=1e-05, elementwise_affine=True)\n",
              "       )\n",
              "       (9): ResidualAttentionBlock(\n",
              "         (attn): MultiheadAttention(\n",
              "           (out_proj): NonDynamicallyQuantizableLinear(in_features=512, out_features=512, bias=True)\n",
              "         )\n",
              "         (ln_1): LayerNorm((512,), eps=1e-05, elementwise_affine=True)\n",
              "         (mlp): Sequential(\n",
              "           (c_fc): Linear(in_features=512, out_features=2048, bias=True)\n",
              "           (gelu): QuickGELU()\n",
              "           (c_proj): Linear(in_features=2048, out_features=512, bias=True)\n",
              "         )\n",
              "         (ln_2): LayerNorm((512,), eps=1e-05, elementwise_affine=True)\n",
              "       )\n",
              "       (10): ResidualAttentionBlock(\n",
              "         (attn): MultiheadAttention(\n",
              "           (out_proj): NonDynamicallyQuantizableLinear(in_features=512, out_features=512, bias=True)\n",
              "         )\n",
              "         (ln_1): LayerNorm((512,), eps=1e-05, elementwise_affine=True)\n",
              "         (mlp): Sequential(\n",
              "           (c_fc): Linear(in_features=512, out_features=2048, bias=True)\n",
              "           (gelu): QuickGELU()\n",
              "           (c_proj): Linear(in_features=2048, out_features=512, bias=True)\n",
              "         )\n",
              "         (ln_2): LayerNorm((512,), eps=1e-05, elementwise_affine=True)\n",
              "       )\n",
              "       (11): ResidualAttentionBlock(\n",
              "         (attn): MultiheadAttention(\n",
              "           (out_proj): NonDynamicallyQuantizableLinear(in_features=512, out_features=512, bias=True)\n",
              "         )\n",
              "         (ln_1): LayerNorm((512,), eps=1e-05, elementwise_affine=True)\n",
              "         (mlp): Sequential(\n",
              "           (c_fc): Linear(in_features=512, out_features=2048, bias=True)\n",
              "           (gelu): QuickGELU()\n",
              "           (c_proj): Linear(in_features=2048, out_features=512, bias=True)\n",
              "         )\n",
              "         (ln_2): LayerNorm((512,), eps=1e-05, elementwise_affine=True)\n",
              "       )\n",
              "     )\n",
              "   )\n",
              "   (token_embedding): Embedding(49408, 512)\n",
              "   (ln_final): LayerNorm((512,), eps=1e-05, elementwise_affine=True)\n",
              " ),\n",
              " Compose(\n",
              "     Resize(size=224, interpolation=bicubic, max_size=None, antialias=True)\n",
              "     CenterCrop(size=(224, 224))\n",
              "     <function _convert_image_to_rgb at 0x7bb93a977a30>\n",
              "     ToTensor()\n",
              "     Normalize(mean=(0.48145466, 0.4578275, 0.40821073), std=(0.26862954, 0.26130258, 0.27577711))\n",
              " ))"
            ]
          },
          "metadata": {},
          "execution_count": 22
        }
      ]
    },
    {
      "cell_type": "code",
      "execution_count": 28,
      "metadata": {
        "id": "1JbO3KcfegVw"
      },
      "outputs": [],
      "source": [
        "class image_title_dataset():\n",
        "    def __init__(self, list_image_path,list_txt):\n",
        "        # Initialize image paths and corresponding texts\n",
        "        self.image_path = list_image_path\n",
        "        # Tokenize text using CLIP's tokenizer\n",
        "        self.title  = clip.tokenize(list_txt)\n",
        "\n",
        "    def __len__(self):\n",
        "        return len(self.title)\n",
        "\n",
        "    def __getitem__(self, idx):\n",
        "        # Preprocess image using CLIP's preprocessing function\n",
        "        image = preprocess(Image.open(self.image_path[idx]))\n",
        "        title = self.title[idx]\n",
        "        return image, title"
      ]
    },
    {
      "cell_type": "code",
      "execution_count": 55,
      "metadata": {
        "id": "jzmPEgMsfHjr"
      },
      "outputs": [],
      "source": [
        "dataset = image_title_dataset(list_image_path, list_txt)"
      ]
    },
    {
      "cell_type": "code",
      "execution_count": 56,
      "metadata": {
        "colab": {
          "base_uri": "https://localhost:8080/"
        },
        "id": "YGFvSdCDfhny",
        "outputId": "e7712a0c-68bc-4787-fc3b-faff51e6216c"
      },
      "outputs": [
        {
          "output_type": "execute_result",
          "data": {
            "text/plain": [
              "(tensor([[[1.9303, 1.9303, 1.9303,  ..., 1.9303, 1.9303, 1.9303],\n",
              "          [1.9303, 1.9303, 1.9303,  ..., 1.9303, 1.9303, 1.9303],\n",
              "          [1.9303, 1.9303, 1.9303,  ..., 1.9303, 1.9303, 1.9303],\n",
              "          ...,\n",
              "          [1.9303, 1.9303, 1.9303,  ..., 1.9303, 1.9303, 1.9303],\n",
              "          [1.9303, 1.9303, 1.9303,  ..., 1.9303, 1.9303, 1.9303],\n",
              "          [1.9303, 1.9303, 1.9303,  ..., 1.9303, 1.9303, 1.9303]],\n",
              " \n",
              "         [[2.0749, 2.0749, 2.0749,  ..., 2.0749, 2.0749, 2.0749],\n",
              "          [2.0749, 2.0749, 2.0749,  ..., 2.0749, 2.0749, 2.0749],\n",
              "          [2.0749, 2.0749, 2.0749,  ..., 2.0749, 2.0749, 2.0749],\n",
              "          ...,\n",
              "          [2.0749, 2.0749, 2.0749,  ..., 2.0749, 2.0749, 2.0749],\n",
              "          [2.0749, 2.0749, 2.0749,  ..., 2.0749, 2.0749, 2.0749],\n",
              "          [2.0749, 2.0749, 2.0749,  ..., 2.0749, 2.0749, 2.0749]],\n",
              " \n",
              "         [[2.1459, 2.1459, 2.1459,  ..., 2.1459, 2.1459, 2.1459],\n",
              "          [2.1459, 2.1459, 2.1459,  ..., 2.1459, 2.1459, 2.1459],\n",
              "          [2.1459, 2.1459, 2.1459,  ..., 2.1459, 2.1459, 2.1459],\n",
              "          ...,\n",
              "          [2.1459, 2.1459, 2.1459,  ..., 2.1459, 2.1459, 2.1459],\n",
              "          [2.1459, 2.1459, 2.1459,  ..., 2.1459, 2.1459, 2.1459],\n",
              "          [2.1459, 2.1459, 2.1459,  ..., 2.1459, 2.1459, 2.1459]]]),\n",
              " tensor([49406,   561,  6528,  3958, 49407,     0,     0,     0,     0,     0,\n",
              "             0,     0,     0,     0,     0,     0,     0,     0,     0,     0,\n",
              "             0,     0,     0,     0,     0,     0,     0,     0,     0,     0,\n",
              "             0,     0,     0,     0,     0,     0,     0,     0,     0,     0,\n",
              "             0,     0,     0,     0,     0,     0,     0,     0,     0,     0,\n",
              "             0,     0,     0,     0,     0,     0,     0,     0,     0,     0,\n",
              "             0,     0,     0,     0,     0,     0,     0,     0,     0,     0,\n",
              "             0,     0,     0,     0,     0,     0,     0], dtype=torch.int32))"
            ]
          },
          "metadata": {},
          "execution_count": 56
        }
      ],
      "source": [
        "dataset[0]"
      ]
    },
    {
      "cell_type": "code",
      "execution_count": 57,
      "metadata": {
        "id": "pYOki7s7fg4U"
      },
      "outputs": [],
      "source": [
        "train_dataloader = DataLoader(dataset, batch_size=100, shuffle=True)"
      ]
    },
    {
      "cell_type": "markdown",
      "metadata": {
        "id": "991mcOErgSIB"
      },
      "source": [
        "# 3. Train the model"
      ]
    },
    {
      "cell_type": "code",
      "execution_count": 58,
      "metadata": {
        "id": "qhRPyJwxfzA4"
      },
      "outputs": [],
      "source": [
        "# Function to convert model's parameters to FP32 format\n",
        "#This is done so that our model loads in the provided memory.\n",
        "def convert_models_to_fp32(model):\n",
        "    for p in model.parameters():\n",
        "        p.data = p.data.float()\n",
        "        p.grad.data = p.grad.data.float()"
      ]
    },
    {
      "cell_type": "code",
      "execution_count": 59,
      "metadata": {
        "id": "5_N4EOAxf2tW"
      },
      "outputs": [],
      "source": [
        "# Check if the device is set to CPU\n",
        "#if device == \"cpu\":\n",
        "#    model.float()  # Convert the model's parameters to float if using CPU"
      ]
    },
    {
      "cell_type": "code",
      "execution_count": 60,
      "metadata": {
        "id": "QmORRCImf8ei"
      },
      "outputs": [],
      "source": [
        "# Prepare the optimizer\n",
        "optimizer = torch.optim.Adam(model.parameters(), lr=5e-5, betas=(0.9, 0.98), eps=1e-6 ,weight_decay=0.2)\n",
        "\n",
        "# Adam optimizer is used with specific hyperparameters\n",
        "# lr (learning rate) is set to 5e-5, which is considered safe for fine-tuning to a new dataset\n",
        "# betas are used for the optimization algorithm\n",
        "# eps is a small value to prevent division by zero\n",
        "# weight_decay adds L2 regularization to the optimizer\n",
        "\n",
        "# Specify the loss function for images\n",
        "loss_img = nn.CrossEntropyLoss()\n",
        "\n",
        "# Specify the loss function for text\n",
        "loss_txt = nn.CrossEntropyLoss()"
      ]
    },
    {
      "cell_type": "code",
      "execution_count": 61,
      "metadata": {
        "colab": {
          "base_uri": "https://localhost:8080/"
        },
        "id": "buYU7JycgBCw",
        "outputId": "1f3e1bba-6fc9-4da0-b2cc-7ee37c1c9765"
      },
      "outputs": [
        {
          "output_type": "stream",
          "name": "stderr",
          "text": [
            "\r  0%|          | 0/25 [00:00<?, ?it/s]"
          ]
        },
        {
          "output_type": "stream",
          "name": "stdout",
          "text": [
            "cuda:0\n"
          ]
        },
        {
          "output_type": "stream",
          "name": "stderr",
          "text": [
            "Epoch 0/1, Loss: 4.6875:   8%|▊         | 2/25 [01:53<21:28, 56.02s/it]"
          ]
        },
        {
          "output_type": "stream",
          "name": "stdout",
          "text": [
            "cuda:0\n"
          ]
        },
        {
          "output_type": "stream",
          "name": "stderr",
          "text": [
            "Epoch 0/1, Loss: 4.6094:  12%|█▏        | 3/25 [02:48<20:22, 55.58s/it]"
          ]
        },
        {
          "output_type": "stream",
          "name": "stdout",
          "text": [
            "cuda:0\n"
          ]
        },
        {
          "output_type": "stream",
          "name": "stderr",
          "text": [
            "Epoch 0/1, Loss: 4.6914:  16%|█▌        | 4/25 [03:37<18:28, 52.80s/it]"
          ]
        },
        {
          "output_type": "stream",
          "name": "stdout",
          "text": [
            "cuda:0\n"
          ]
        },
        {
          "output_type": "stream",
          "name": "stderr",
          "text": [
            "Epoch 0/1, Loss: 4.5859:  20%|██        | 5/25 [04:29<17:30, 52.53s/it]"
          ]
        },
        {
          "output_type": "stream",
          "name": "stdout",
          "text": [
            "cuda:0\n"
          ]
        },
        {
          "output_type": "stream",
          "name": "stderr",
          "text": [
            "Epoch 0/1, Loss: 4.5625:  24%|██▍       | 6/25 [05:15<15:54, 50.22s/it]"
          ]
        },
        {
          "output_type": "stream",
          "name": "stdout",
          "text": [
            "cuda:0\n"
          ]
        },
        {
          "output_type": "stream",
          "name": "stderr",
          "text": [
            "Epoch 0/1, Loss: 4.5156:  28%|██▊       | 7/25 [05:59<14:29, 48.28s/it]"
          ]
        },
        {
          "output_type": "stream",
          "name": "stdout",
          "text": [
            "cuda:0\n"
          ]
        },
        {
          "output_type": "stream",
          "name": "stderr",
          "text": [
            "Epoch 0/1, Loss: 4.3047:  32%|███▏      | 8/25 [06:39<12:57, 45.72s/it]"
          ]
        },
        {
          "output_type": "stream",
          "name": "stdout",
          "text": [
            "cuda:0\n"
          ]
        },
        {
          "output_type": "stream",
          "name": "stderr",
          "text": [
            "Epoch 0/1, Loss: 4.2578:  36%|███▌      | 9/25 [07:19<11:41, 43.84s/it]"
          ]
        },
        {
          "output_type": "stream",
          "name": "stdout",
          "text": [
            "cuda:0\n"
          ]
        },
        {
          "output_type": "stream",
          "name": "stderr",
          "text": [
            "Epoch 0/1, Loss: 4.2500:  40%|████      | 10/25 [08:00<10:43, 42.89s/it]"
          ]
        },
        {
          "output_type": "stream",
          "name": "stdout",
          "text": [
            "cuda:0\n"
          ]
        },
        {
          "output_type": "stream",
          "name": "stderr",
          "text": [
            "Epoch 0/1, Loss: 4.2266:  44%|████▍     | 11/25 [08:33<09:21, 40.10s/it]"
          ]
        },
        {
          "output_type": "stream",
          "name": "stdout",
          "text": [
            "cuda:0\n"
          ]
        },
        {
          "output_type": "stream",
          "name": "stderr",
          "text": [
            "Epoch 0/1, Loss: 4.0469:  48%|████▊     | 12/25 [09:05<08:08, 37.60s/it]"
          ]
        },
        {
          "output_type": "stream",
          "name": "stdout",
          "text": [
            "cuda:0\n"
          ]
        },
        {
          "output_type": "stream",
          "name": "stderr",
          "text": [
            "Epoch 0/1, Loss: 4.1016:  52%|█████▏    | 13/25 [09:32<06:50, 34.22s/it]"
          ]
        },
        {
          "output_type": "stream",
          "name": "stdout",
          "text": [
            "cuda:0\n"
          ]
        },
        {
          "output_type": "stream",
          "name": "stderr",
          "text": [
            "Epoch 0/1, Loss: 3.8730:  56%|█████▌    | 14/25 [09:56<05:42, 31.14s/it]"
          ]
        },
        {
          "output_type": "stream",
          "name": "stdout",
          "text": [
            "cuda:0\n"
          ]
        },
        {
          "output_type": "stream",
          "name": "stderr",
          "text": [
            "Epoch 0/1, Loss: 4.0352:  60%|██████    | 15/25 [10:25<05:04, 30.44s/it]"
          ]
        },
        {
          "output_type": "stream",
          "name": "stdout",
          "text": [
            "cuda:0\n"
          ]
        },
        {
          "output_type": "stream",
          "name": "stderr",
          "text": [
            "Epoch 0/1, Loss: 3.8770:  64%|██████▍   | 16/25 [10:48<04:15, 28.42s/it]"
          ]
        },
        {
          "output_type": "stream",
          "name": "stdout",
          "text": [
            "cuda:0\n"
          ]
        },
        {
          "output_type": "stream",
          "name": "stderr",
          "text": [
            "Epoch 0/1, Loss: 3.9180:  68%|██████▊   | 17/25 [11:14<03:39, 27.50s/it]"
          ]
        },
        {
          "output_type": "stream",
          "name": "stdout",
          "text": [
            "cuda:0\n"
          ]
        },
        {
          "output_type": "stream",
          "name": "stderr",
          "text": [
            "Epoch 0/1, Loss: 3.9258:  72%|███████▏  | 18/25 [11:33<02:56, 25.17s/it]"
          ]
        },
        {
          "output_type": "stream",
          "name": "stdout",
          "text": [
            "cuda:0\n"
          ]
        },
        {
          "output_type": "stream",
          "name": "stderr",
          "text": [
            "Epoch 0/1, Loss: 3.8203:  76%|███████▌  | 19/25 [11:53<02:20, 23.44s/it]"
          ]
        },
        {
          "output_type": "stream",
          "name": "stdout",
          "text": [
            "cuda:0\n"
          ]
        },
        {
          "output_type": "stream",
          "name": "stderr",
          "text": [
            "Epoch 0/1, Loss: 3.4883:  80%|████████  | 20/25 [12:06<01:41, 20.28s/it]"
          ]
        },
        {
          "output_type": "stream",
          "name": "stdout",
          "text": [
            "cuda:0\n"
          ]
        },
        {
          "output_type": "stream",
          "name": "stderr",
          "text": [
            "Epoch 0/1, Loss: 3.7188:  84%|████████▍ | 21/25 [12:19<01:12, 18.04s/it]"
          ]
        },
        {
          "output_type": "stream",
          "name": "stdout",
          "text": [
            "cuda:0\n"
          ]
        },
        {
          "output_type": "stream",
          "name": "stderr",
          "text": [
            "Epoch 0/1, Loss: 3.4102:  88%|████████▊ | 22/25 [12:31<00:48, 16.33s/it]"
          ]
        },
        {
          "output_type": "stream",
          "name": "stdout",
          "text": [
            "cuda:0\n"
          ]
        },
        {
          "output_type": "stream",
          "name": "stderr",
          "text": [
            "Epoch 0/1, Loss: 3.2578:  92%|█████████▏| 23/25 [12:37<00:26, 13.31s/it]"
          ]
        },
        {
          "output_type": "stream",
          "name": "stdout",
          "text": [
            "cuda:0\n"
          ]
        },
        {
          "output_type": "stream",
          "name": "stderr",
          "text": [
            "Epoch 0/1, Loss: 3.4316:  96%|█████████▌| 24/25 [12:42<00:10, 10.61s/it]"
          ]
        },
        {
          "output_type": "stream",
          "name": "stdout",
          "text": [
            "cuda:0\n"
          ]
        },
        {
          "output_type": "stream",
          "name": "stderr",
          "text": [
            "Epoch 0/1, Loss: 2.9277: 100%|██████████| 25/25 [12:43<00:00, 30.55s/it]"
          ]
        },
        {
          "output_type": "stream",
          "name": "stdout",
          "text": [
            "cuda:0\n"
          ]
        },
        {
          "output_type": "stream",
          "name": "stderr",
          "text": [
            "\n"
          ]
        }
      ],
      "source": [
        "num_epochs = 1 # Number of training epochs\n",
        "for epoch in range(num_epochs):\n",
        "\n",
        "    pbar = tqdm(train_dataloader, total=len(train_dataloader))\n",
        "\n",
        "    # Iterate through the batches in the training data\n",
        "    for batch in pbar:\n",
        "        optimizer.zero_grad()  # Zero out gradients for the optimizer\n",
        "\n",
        "        # Extract images and texts from the batch\n",
        "        images, texts = batch\n",
        "\n",
        "        # Print the current device (CPU or GPU)\n",
        "        print(device)\n",
        "\n",
        "        # Move images and texts to the specified device (CPU or GPU)\n",
        "        images = images.to(device)\n",
        "        texts = texts.to(device)\n",
        "\n",
        "        # Forward pass through the model\n",
        "        logits_per_image, logits_per_text = model(images, texts)\n",
        "\n",
        "        # Compute the loss\n",
        "        ground_truth = torch.arange(len(images), dtype=torch.long, device=device)\n",
        "        total_loss = (loss_img(logits_per_image, ground_truth) + loss_txt(logits_per_text, ground_truth)) / 2\n",
        "\n",
        "        # Backward pass and update the model's parameters\n",
        "        total_loss.backward()\n",
        "\n",
        "        # If the device is CPU, directly update the model\n",
        "        if device == \"cpu\":\n",
        "            optimizer.step()\n",
        "        else:\n",
        "            # Convert model's parameters to FP32 format, update, and convert back\n",
        "            convert_models_to_fp32(model)\n",
        "            optimizer.step()\n",
        "            clip.model.convert_weights(model)\n",
        "\n",
        "        # Update the progress bar with the current epoch and loss\n",
        "        pbar.set_description(f\"Epoch {epoch}/{num_epochs}, Loss: {total_loss.item():.4f}\")"
      ]
    }
  ],
  "metadata": {
    "accelerator": "GPU",
    "colab": {
      "gpuType": "V100",
      "provenance": [],
      "include_colab_link": true
    },
    "kernelspec": {
      "display_name": "Python 3",
      "name": "python3"
    },
    "language_info": {
      "name": "python"
    }
  },
  "nbformat": 4,
  "nbformat_minor": 0
}